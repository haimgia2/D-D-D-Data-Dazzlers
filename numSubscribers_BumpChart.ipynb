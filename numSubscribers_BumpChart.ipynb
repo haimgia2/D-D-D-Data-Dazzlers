{
 "cells": [
  {
   "cell_type": "code",
   "execution_count": 43,
   "metadata": {},
   "outputs": [],
   "source": [
    "##Create a Bump chart to rank number of subscribers for different streaming services\n",
    "\n",
    "import pandas as pd\n",
    "import plotly\n",
    "import plotly.express as px"
   ]
  },
  {
   "cell_type": "code",
   "execution_count": 51,
   "metadata": {},
   "outputs": [
    {
     "data": {
      "text/html": [
       "<div>\n",
       "<style scoped>\n",
       "    .dataframe tbody tr th:only-of-type {\n",
       "        vertical-align: middle;\n",
       "    }\n",
       "\n",
       "    .dataframe tbody tr th {\n",
       "        vertical-align: top;\n",
       "    }\n",
       "\n",
       "    .dataframe thead th {\n",
       "        text-align: right;\n",
       "    }\n",
       "</style>\n",
       "<table border=\"1\" class=\"dataframe\">\n",
       "  <thead>\n",
       "    <tr style=\"text-align: right;\">\n",
       "      <th></th>\n",
       "      <th>Year</th>\n",
       "      <th>Streaming Service</th>\n",
       "      <th>Revenue ($bn)</th>\n",
       "      <th>Number Subscribers (mm)</th>\n",
       "    </tr>\n",
       "  </thead>\n",
       "  <tbody>\n",
       "    <tr>\n",
       "      <th>0</th>\n",
       "      <td>2011</td>\n",
       "      <td>Netflix</td>\n",
       "      <td>3.1</td>\n",
       "      <td>21.50</td>\n",
       "    </tr>\n",
       "    <tr>\n",
       "      <th>1</th>\n",
       "      <td>2012</td>\n",
       "      <td>Netflix</td>\n",
       "      <td>3.5</td>\n",
       "      <td>25.71</td>\n",
       "    </tr>\n",
       "    <tr>\n",
       "      <th>2</th>\n",
       "      <td>2013</td>\n",
       "      <td>Netflix</td>\n",
       "      <td>4.5</td>\n",
       "      <td>35.63</td>\n",
       "    </tr>\n",
       "    <tr>\n",
       "      <th>3</th>\n",
       "      <td>2014</td>\n",
       "      <td>Netflix</td>\n",
       "      <td>5.4</td>\n",
       "      <td>47.99</td>\n",
       "    </tr>\n",
       "    <tr>\n",
       "      <th>4</th>\n",
       "      <td>2015</td>\n",
       "      <td>Netflix</td>\n",
       "      <td>6.7</td>\n",
       "      <td>62.71</td>\n",
       "    </tr>\n",
       "  </tbody>\n",
       "</table>\n",
       "</div>"
      ],
      "text/plain": [
       "   Year Streaming Service  Revenue ($bn)  Number Subscribers (mm)\n",
       "0  2011           Netflix            3.1                    21.50\n",
       "1  2012           Netflix            3.5                    25.71\n",
       "2  2013           Netflix            4.5                    35.63\n",
       "3  2014           Netflix            5.4                    47.99\n",
       "4  2015           Netflix            6.7                    62.71"
      ]
     },
     "execution_count": 51,
     "metadata": {},
     "output_type": "execute_result"
    }
   ],
   "source": [
    "## Load dataset from subscriber_counts file\n",
    "## Data comes from webscraping of Business of Apps website, was combined by hand from various webscraping results\n",
    "df_subscriber_counts = pd.read_excel(\"subscriber_counts.xlsx\", sheet_name=\"Sheet1\")\n",
    "\n",
    "\n",
    "##check top rows of dataframe\n",
    "df_subscriber_counts.head()"
   ]
  },
  {
   "cell_type": "code",
   "execution_count": 53,
   "metadata": {},
   "outputs": [
    {
     "data": {
      "text/html": [
       "<div>\n",
       "<style scoped>\n",
       "    .dataframe tbody tr th:only-of-type {\n",
       "        vertical-align: middle;\n",
       "    }\n",
       "\n",
       "    .dataframe tbody tr th {\n",
       "        vertical-align: top;\n",
       "    }\n",
       "\n",
       "    .dataframe thead th {\n",
       "        text-align: right;\n",
       "    }\n",
       "</style>\n",
       "<table border=\"1\" class=\"dataframe\">\n",
       "  <thead>\n",
       "    <tr style=\"text-align: right;\">\n",
       "      <th></th>\n",
       "      <th>Year</th>\n",
       "      <th>Streaming Service</th>\n",
       "      <th>Revenue ($bn)</th>\n",
       "      <th>Number Subscribers (mm)</th>\n",
       "      <th>Rank</th>\n",
       "    </tr>\n",
       "  </thead>\n",
       "  <tbody>\n",
       "    <tr>\n",
       "      <th>0</th>\n",
       "      <td>2011</td>\n",
       "      <td>Netflix</td>\n",
       "      <td>3.1000</td>\n",
       "      <td>21.50</td>\n",
       "      <td>1</td>\n",
       "    </tr>\n",
       "    <tr>\n",
       "      <th>1</th>\n",
       "      <td>2012</td>\n",
       "      <td>Netflix</td>\n",
       "      <td>3.5000</td>\n",
       "      <td>25.71</td>\n",
       "      <td>1</td>\n",
       "    </tr>\n",
       "    <tr>\n",
       "      <th>2</th>\n",
       "      <td>2013</td>\n",
       "      <td>Netflix</td>\n",
       "      <td>4.5000</td>\n",
       "      <td>35.63</td>\n",
       "      <td>1</td>\n",
       "    </tr>\n",
       "    <tr>\n",
       "      <th>3</th>\n",
       "      <td>2014</td>\n",
       "      <td>Netflix</td>\n",
       "      <td>5.4000</td>\n",
       "      <td>47.99</td>\n",
       "      <td>1</td>\n",
       "    </tr>\n",
       "    <tr>\n",
       "      <th>4</th>\n",
       "      <td>2015</td>\n",
       "      <td>Netflix</td>\n",
       "      <td>6.7000</td>\n",
       "      <td>62.71</td>\n",
       "      <td>1</td>\n",
       "    </tr>\n",
       "    <tr>\n",
       "      <th>5</th>\n",
       "      <td>2016</td>\n",
       "      <td>Netflix</td>\n",
       "      <td>8.8000</td>\n",
       "      <td>79.90</td>\n",
       "      <td>1</td>\n",
       "    </tr>\n",
       "    <tr>\n",
       "      <th>6</th>\n",
       "      <td>2017</td>\n",
       "      <td>Netflix</td>\n",
       "      <td>11.6000</td>\n",
       "      <td>99.04</td>\n",
       "      <td>1</td>\n",
       "    </tr>\n",
       "    <tr>\n",
       "      <th>7</th>\n",
       "      <td>2018</td>\n",
       "      <td>Netflix</td>\n",
       "      <td>15.7000</td>\n",
       "      <td>124.35</td>\n",
       "      <td>1</td>\n",
       "    </tr>\n",
       "    <tr>\n",
       "      <th>8</th>\n",
       "      <td>2019</td>\n",
       "      <td>Netflix</td>\n",
       "      <td>20.1000</td>\n",
       "      <td>151.56</td>\n",
       "      <td>1</td>\n",
       "    </tr>\n",
       "    <tr>\n",
       "      <th>9</th>\n",
       "      <td>2020</td>\n",
       "      <td>Netflix</td>\n",
       "      <td>24.9000</td>\n",
       "      <td>192.95</td>\n",
       "      <td>1</td>\n",
       "    </tr>\n",
       "    <tr>\n",
       "      <th>10</th>\n",
       "      <td>2021</td>\n",
       "      <td>Netflix</td>\n",
       "      <td>29.6000</td>\n",
       "      <td>209.00</td>\n",
       "      <td>1</td>\n",
       "    </tr>\n",
       "    <tr>\n",
       "      <th>11</th>\n",
       "      <td>2022</td>\n",
       "      <td>Netflix</td>\n",
       "      <td>31.6000</td>\n",
       "      <td>220.60</td>\n",
       "      <td>1</td>\n",
       "    </tr>\n",
       "    <tr>\n",
       "      <th>12</th>\n",
       "      <td>2023</td>\n",
       "      <td>Netflix</td>\n",
       "      <td>33.7000</td>\n",
       "      <td>238.30</td>\n",
       "      <td>2</td>\n",
       "    </tr>\n",
       "    <tr>\n",
       "      <th>13</th>\n",
       "      <td>2024</td>\n",
       "      <td>Netflix</td>\n",
       "      <td>39.0000</td>\n",
       "      <td>277.60</td>\n",
       "      <td>2</td>\n",
       "    </tr>\n",
       "    <tr>\n",
       "      <th>14</th>\n",
       "      <td>2011</td>\n",
       "      <td>Hulu</td>\n",
       "      <td>0.4000</td>\n",
       "      <td>1.00</td>\n",
       "      <td>2</td>\n",
       "    </tr>\n",
       "    <tr>\n",
       "      <th>15</th>\n",
       "      <td>2012</td>\n",
       "      <td>Hulu</td>\n",
       "      <td>0.6000</td>\n",
       "      <td>2.00</td>\n",
       "      <td>2</td>\n",
       "    </tr>\n",
       "    <tr>\n",
       "      <th>16</th>\n",
       "      <td>2013</td>\n",
       "      <td>Hulu</td>\n",
       "      <td>1.1000</td>\n",
       "      <td>4.00</td>\n",
       "      <td>2</td>\n",
       "    </tr>\n",
       "    <tr>\n",
       "      <th>17</th>\n",
       "      <td>2014</td>\n",
       "      <td>Hulu</td>\n",
       "      <td>1.6000</td>\n",
       "      <td>6.00</td>\n",
       "      <td>2</td>\n",
       "    </tr>\n",
       "    <tr>\n",
       "      <th>18</th>\n",
       "      <td>2015</td>\n",
       "      <td>Hulu</td>\n",
       "      <td>2.0000</td>\n",
       "      <td>10.00</td>\n",
       "      <td>2</td>\n",
       "    </tr>\n",
       "    <tr>\n",
       "      <th>19</th>\n",
       "      <td>2016</td>\n",
       "      <td>Hulu</td>\n",
       "      <td>2.4000</td>\n",
       "      <td>12.00</td>\n",
       "      <td>2</td>\n",
       "    </tr>\n",
       "    <tr>\n",
       "      <th>20</th>\n",
       "      <td>2017</td>\n",
       "      <td>Hulu</td>\n",
       "      <td>3.1000</td>\n",
       "      <td>17.00</td>\n",
       "      <td>2</td>\n",
       "    </tr>\n",
       "    <tr>\n",
       "      <th>21</th>\n",
       "      <td>2018</td>\n",
       "      <td>Hulu</td>\n",
       "      <td>3.5000</td>\n",
       "      <td>22.00</td>\n",
       "      <td>2</td>\n",
       "    </tr>\n",
       "    <tr>\n",
       "      <th>22</th>\n",
       "      <td>2019</td>\n",
       "      <td>Hulu</td>\n",
       "      <td>4.5000</td>\n",
       "      <td>25.00</td>\n",
       "      <td>3</td>\n",
       "    </tr>\n",
       "    <tr>\n",
       "      <th>23</th>\n",
       "      <td>2020</td>\n",
       "      <td>Hulu</td>\n",
       "      <td>7.2000</td>\n",
       "      <td>32.00</td>\n",
       "      <td>5</td>\n",
       "    </tr>\n",
       "    <tr>\n",
       "      <th>24</th>\n",
       "      <td>2021</td>\n",
       "      <td>Hulu</td>\n",
       "      <td>9.6000</td>\n",
       "      <td>41.00</td>\n",
       "      <td>5</td>\n",
       "    </tr>\n",
       "    <tr>\n",
       "      <th>25</th>\n",
       "      <td>2022</td>\n",
       "      <td>Hulu</td>\n",
       "      <td>10.7000</td>\n",
       "      <td>45.00</td>\n",
       "      <td>6</td>\n",
       "    </tr>\n",
       "    <tr>\n",
       "      <th>26</th>\n",
       "      <td>2023</td>\n",
       "      <td>Hulu</td>\n",
       "      <td>11.2000</td>\n",
       "      <td>48.20</td>\n",
       "      <td>6</td>\n",
       "    </tr>\n",
       "    <tr>\n",
       "      <th>27</th>\n",
       "      <td>2024</td>\n",
       "      <td>Hulu</td>\n",
       "      <td>12.0000</td>\n",
       "      <td>50.20</td>\n",
       "      <td>5</td>\n",
       "    </tr>\n",
       "    <tr>\n",
       "      <th>28</th>\n",
       "      <td>2020</td>\n",
       "      <td>Max</td>\n",
       "      <td>0.1199</td>\n",
       "      <td>55.60</td>\n",
       "      <td>3</td>\n",
       "    </tr>\n",
       "    <tr>\n",
       "      <th>29</th>\n",
       "      <td>2021</td>\n",
       "      <td>Max</td>\n",
       "      <td>0.5265</td>\n",
       "      <td>67.00</td>\n",
       "      <td>4</td>\n",
       "    </tr>\n",
       "    <tr>\n",
       "      <th>30</th>\n",
       "      <td>2022</td>\n",
       "      <td>Max</td>\n",
       "      <td>0.5345</td>\n",
       "      <td>81.20</td>\n",
       "      <td>4</td>\n",
       "    </tr>\n",
       "    <tr>\n",
       "      <th>31</th>\n",
       "      <td>2023</td>\n",
       "      <td>Max</td>\n",
       "      <td>0.4990</td>\n",
       "      <td>95.80</td>\n",
       "      <td>4</td>\n",
       "    </tr>\n",
       "    <tr>\n",
       "      <th>32</th>\n",
       "      <td>2020</td>\n",
       "      <td>Disney+</td>\n",
       "      <td>2.8000</td>\n",
       "      <td>33.50</td>\n",
       "      <td>4</td>\n",
       "    </tr>\n",
       "    <tr>\n",
       "      <th>33</th>\n",
       "      <td>2021</td>\n",
       "      <td>Disney+</td>\n",
       "      <td>5.2000</td>\n",
       "      <td>68.40</td>\n",
       "      <td>3</td>\n",
       "    </tr>\n",
       "    <tr>\n",
       "      <th>34</th>\n",
       "      <td>2022</td>\n",
       "      <td>Disney+</td>\n",
       "      <td>7.4000</td>\n",
       "      <td>87.60</td>\n",
       "      <td>3</td>\n",
       "    </tr>\n",
       "    <tr>\n",
       "      <th>35</th>\n",
       "      <td>2023</td>\n",
       "      <td>Disney+</td>\n",
       "      <td>8.4000</td>\n",
       "      <td>104.90</td>\n",
       "      <td>3</td>\n",
       "    </tr>\n",
       "    <tr>\n",
       "      <th>36</th>\n",
       "      <td>2024</td>\n",
       "      <td>Disney+</td>\n",
       "      <td>10.4000</td>\n",
       "      <td>117.60</td>\n",
       "      <td>3</td>\n",
       "    </tr>\n",
       "    <tr>\n",
       "      <th>37</th>\n",
       "      <td>2019</td>\n",
       "      <td>Amazon Prime</td>\n",
       "      <td>5.4000</td>\n",
       "      <td>90.00</td>\n",
       "      <td>2</td>\n",
       "    </tr>\n",
       "    <tr>\n",
       "      <th>38</th>\n",
       "      <td>2020</td>\n",
       "      <td>Amazon Prime</td>\n",
       "      <td>7.8000</td>\n",
       "      <td>125.00</td>\n",
       "      <td>2</td>\n",
       "    </tr>\n",
       "    <tr>\n",
       "      <th>39</th>\n",
       "      <td>2021</td>\n",
       "      <td>Amazon Prime</td>\n",
       "      <td>11.3000</td>\n",
       "      <td>175.00</td>\n",
       "      <td>2</td>\n",
       "    </tr>\n",
       "    <tr>\n",
       "      <th>40</th>\n",
       "      <td>2022</td>\n",
       "      <td>Amazon Prime</td>\n",
       "      <td>12.5000</td>\n",
       "      <td>210.00</td>\n",
       "      <td>2</td>\n",
       "    </tr>\n",
       "    <tr>\n",
       "      <th>41</th>\n",
       "      <td>2023</td>\n",
       "      <td>Amazon Prime</td>\n",
       "      <td>14.0000</td>\n",
       "      <td>245.00</td>\n",
       "      <td>1</td>\n",
       "    </tr>\n",
       "    <tr>\n",
       "      <th>42</th>\n",
       "      <td>2024</td>\n",
       "      <td>Amazon Prime</td>\n",
       "      <td>NaN</td>\n",
       "      <td>290.00</td>\n",
       "      <td>1</td>\n",
       "    </tr>\n",
       "    <tr>\n",
       "      <th>43</th>\n",
       "      <td>2019</td>\n",
       "      <td>Tubi</td>\n",
       "      <td>0.1500</td>\n",
       "      <td>20.00</td>\n",
       "      <td>4</td>\n",
       "    </tr>\n",
       "    <tr>\n",
       "      <th>44</th>\n",
       "      <td>2020</td>\n",
       "      <td>Tubi</td>\n",
       "      <td>0.2500</td>\n",
       "      <td>28.00</td>\n",
       "      <td>6</td>\n",
       "    </tr>\n",
       "    <tr>\n",
       "      <th>45</th>\n",
       "      <td>2021</td>\n",
       "      <td>Tubi</td>\n",
       "      <td>0.3800</td>\n",
       "      <td>40.00</td>\n",
       "      <td>6</td>\n",
       "    </tr>\n",
       "    <tr>\n",
       "      <th>46</th>\n",
       "      <td>2022</td>\n",
       "      <td>Tubi</td>\n",
       "      <td>0.7750</td>\n",
       "      <td>51.00</td>\n",
       "      <td>5</td>\n",
       "    </tr>\n",
       "    <tr>\n",
       "      <th>47</th>\n",
       "      <td>2023</td>\n",
       "      <td>Tubi</td>\n",
       "      <td>0.9000</td>\n",
       "      <td>64.00</td>\n",
       "      <td>5</td>\n",
       "    </tr>\n",
       "    <tr>\n",
       "      <th>48</th>\n",
       "      <td>2024</td>\n",
       "      <td>Tubi</td>\n",
       "      <td>NaN</td>\n",
       "      <td>78.00</td>\n",
       "      <td>4</td>\n",
       "    </tr>\n",
       "  </tbody>\n",
       "</table>\n",
       "</div>"
      ],
      "text/plain": [
       "    Year Streaming Service  Revenue ($bn)  Number Subscribers (mm)  Rank\n",
       "0   2011           Netflix         3.1000                    21.50     1\n",
       "1   2012           Netflix         3.5000                    25.71     1\n",
       "2   2013           Netflix         4.5000                    35.63     1\n",
       "3   2014           Netflix         5.4000                    47.99     1\n",
       "4   2015           Netflix         6.7000                    62.71     1\n",
       "5   2016           Netflix         8.8000                    79.90     1\n",
       "6   2017           Netflix        11.6000                    99.04     1\n",
       "7   2018           Netflix        15.7000                   124.35     1\n",
       "8   2019           Netflix        20.1000                   151.56     1\n",
       "9   2020           Netflix        24.9000                   192.95     1\n",
       "10  2021           Netflix        29.6000                   209.00     1\n",
       "11  2022           Netflix        31.6000                   220.60     1\n",
       "12  2023           Netflix        33.7000                   238.30     2\n",
       "13  2024           Netflix        39.0000                   277.60     2\n",
       "14  2011              Hulu         0.4000                     1.00     2\n",
       "15  2012              Hulu         0.6000                     2.00     2\n",
       "16  2013              Hulu         1.1000                     4.00     2\n",
       "17  2014              Hulu         1.6000                     6.00     2\n",
       "18  2015              Hulu         2.0000                    10.00     2\n",
       "19  2016              Hulu         2.4000                    12.00     2\n",
       "20  2017              Hulu         3.1000                    17.00     2\n",
       "21  2018              Hulu         3.5000                    22.00     2\n",
       "22  2019              Hulu         4.5000                    25.00     3\n",
       "23  2020              Hulu         7.2000                    32.00     5\n",
       "24  2021              Hulu         9.6000                    41.00     5\n",
       "25  2022              Hulu        10.7000                    45.00     6\n",
       "26  2023              Hulu        11.2000                    48.20     6\n",
       "27  2024              Hulu        12.0000                    50.20     5\n",
       "28  2020               Max         0.1199                    55.60     3\n",
       "29  2021               Max         0.5265                    67.00     4\n",
       "30  2022               Max         0.5345                    81.20     4\n",
       "31  2023               Max         0.4990                    95.80     4\n",
       "32  2020           Disney+         2.8000                    33.50     4\n",
       "33  2021           Disney+         5.2000                    68.40     3\n",
       "34  2022           Disney+         7.4000                    87.60     3\n",
       "35  2023           Disney+         8.4000                   104.90     3\n",
       "36  2024           Disney+        10.4000                   117.60     3\n",
       "37  2019      Amazon Prime         5.4000                    90.00     2\n",
       "38  2020      Amazon Prime         7.8000                   125.00     2\n",
       "39  2021      Amazon Prime        11.3000                   175.00     2\n",
       "40  2022      Amazon Prime        12.5000                   210.00     2\n",
       "41  2023      Amazon Prime        14.0000                   245.00     1\n",
       "42  2024      Amazon Prime            NaN                   290.00     1\n",
       "43  2019              Tubi         0.1500                    20.00     4\n",
       "44  2020              Tubi         0.2500                    28.00     6\n",
       "45  2021              Tubi         0.3800                    40.00     6\n",
       "46  2022              Tubi         0.7750                    51.00     5\n",
       "47  2023              Tubi         0.9000                    64.00     5\n",
       "48  2024              Tubi            NaN                    78.00     4"
      ]
     },
     "execution_count": 53,
     "metadata": {},
     "output_type": "execute_result"
    }
   ],
   "source": [
    "## Add rank values to dataset\n",
    "## To plot the bump chart each Service needs a rank for every year\n",
    "## Rank will be based off Number of Subscribers\n",
    "\n",
    "#ensure number of subscribers is treanted as float\n",
    "df_subscriber_counts[\"Number Subscribers (mm)\"] = df_subscriber_counts[\"Number Subscribers (mm)\"].astype(float)\n",
    "\n",
    "#add rank column and rank services by number of subscribers\n",
    "df_subscriber_counts[\"Rank\"] = df_subscriber_counts.groupby(\"Year\")[\"Number Subscribers (mm)\"].rank(ascending=False, method=\"dense\").astype(int)\n",
    "\n",
    "#Show top rows of dataframe\n",
    "df_subscriber_counts"
   ]
  },
  {
   "cell_type": "code",
   "execution_count": 54,
   "metadata": {},
   "outputs": [
    {
     "data": {
      "text/html": [
       "<div>\n",
       "<style scoped>\n",
       "    .dataframe tbody tr th:only-of-type {\n",
       "        vertical-align: middle;\n",
       "    }\n",
       "\n",
       "    .dataframe tbody tr th {\n",
       "        vertical-align: top;\n",
       "    }\n",
       "\n",
       "    .dataframe thead th {\n",
       "        text-align: right;\n",
       "    }\n",
       "</style>\n",
       "<table border=\"1\" class=\"dataframe\">\n",
       "  <thead>\n",
       "    <tr style=\"text-align: right;\">\n",
       "      <th></th>\n",
       "      <th>Year</th>\n",
       "      <th>Streaming Service</th>\n",
       "      <th>Revenue ($bn)</th>\n",
       "      <th>Number Subscribers (mm)</th>\n",
       "      <th>Rank</th>\n",
       "    </tr>\n",
       "  </thead>\n",
       "  <tbody>\n",
       "    <tr>\n",
       "      <th>0</th>\n",
       "      <td>2011</td>\n",
       "      <td>Netflix</td>\n",
       "      <td>3.1</td>\n",
       "      <td>21.50</td>\n",
       "      <td>1</td>\n",
       "    </tr>\n",
       "    <tr>\n",
       "      <th>14</th>\n",
       "      <td>2011</td>\n",
       "      <td>Hulu</td>\n",
       "      <td>0.4</td>\n",
       "      <td>1.00</td>\n",
       "      <td>2</td>\n",
       "    </tr>\n",
       "    <tr>\n",
       "      <th>1</th>\n",
       "      <td>2012</td>\n",
       "      <td>Netflix</td>\n",
       "      <td>3.5</td>\n",
       "      <td>25.71</td>\n",
       "      <td>1</td>\n",
       "    </tr>\n",
       "    <tr>\n",
       "      <th>15</th>\n",
       "      <td>2012</td>\n",
       "      <td>Hulu</td>\n",
       "      <td>0.6</td>\n",
       "      <td>2.00</td>\n",
       "      <td>2</td>\n",
       "    </tr>\n",
       "    <tr>\n",
       "      <th>2</th>\n",
       "      <td>2013</td>\n",
       "      <td>Netflix</td>\n",
       "      <td>4.5</td>\n",
       "      <td>35.63</td>\n",
       "      <td>1</td>\n",
       "    </tr>\n",
       "  </tbody>\n",
       "</table>\n",
       "</div>"
      ],
      "text/plain": [
       "    Year Streaming Service  Revenue ($bn)  Number Subscribers (mm)  Rank\n",
       "0   2011           Netflix            3.1                    21.50     1\n",
       "14  2011              Hulu            0.4                     1.00     2\n",
       "1   2012           Netflix            3.5                    25.71     1\n",
       "15  2012              Hulu            0.6                     2.00     2\n",
       "2   2013           Netflix            4.5                    35.63     1"
      ]
     },
     "execution_count": 54,
     "metadata": {},
     "output_type": "execute_result"
    }
   ],
   "source": [
    "#sort value by year and ranking\n",
    "df_subscriber_counts = df_subscriber_counts.sort_values(by=[\"Year\", \"Rank\"])\n",
    "\n",
    "#Convert Year into string for plotting\n",
    "df_subscriber_counts[\"Year\"] = df_subscriber_counts[\"Year\"].astype(str)\n",
    "\n",
    "df_subscriber_counts.head()"
   ]
  },
  {
   "cell_type": "code",
   "execution_count": 55,
   "metadata": {},
   "outputs": [],
   "source": [
    "## Create custom color map for plotting\n",
    "## Colors are pulled from Streaming Service logos using color picker\n",
    "\n",
    "color_dict = {\n",
    "    \"Netflix\": '#d70c1b',\n",
    "    \"Hulu\": '#57e880',\n",
    "    \"Max\": '#2f16e1',\n",
    "    \"Disney+\": '#50b9ca',\n",
    "    \"Amazon Prime\": '#48a8e2',\n",
    "    \"Tubi\": '#fbff00'\n",
    "}"
   ]
  },
  {
   "cell_type": "code",
   "execution_count": 56,
   "metadata": {},
   "outputs": [
    {
     "data": {
      "application/vnd.plotly.v1+json": {
       "config": {
        "plotlyServerURL": "https://plotly.com"
       },
       "data": [
        {
         "customdata": {
          "bdata": "zczMzMzMCEAAAAAAAIA1QAAAAAAAAAxA9ihcj8K1OUAAAAAAAAASQHE9Ctej0EFAmpmZmZmZFUAfhetRuP5HQM3MzMzMzBpAexSuR+FaT0CamZmZmZkhQJqZmZmZ+VNAMzMzMzMzJ0DD9Shcj8JYQGZmZmZmZi9AZmZmZmYWX0CamZmZmRk0QFK4HoXr8WJAZmZmZmbmOEBmZmZmZh5oQJqZmZmZmT1AAAAAAAAgakCamZmZmZk/QDMzMzMzk2tAmpmZmZnZQECamZmZmcltQAAAAAAAgENAmpmZmZlZcUA=",
          "dtype": "f8",
          "shape": "14, 2"
         },
         "hovertemplate": "<b>%{hovertext}</b><br><br>Streaming Service=Netflix<br>Year=%{x}<br>Rank=%{y}<br>Revenue ($bn)=%{customdata[0]}<br>Number Subscribers (mm)=%{customdata[1]}<extra></extra>",
         "hovertext": [
          "Netflix",
          "Netflix",
          "Netflix",
          "Netflix",
          "Netflix",
          "Netflix",
          "Netflix",
          "Netflix",
          "Netflix",
          "Netflix",
          "Netflix",
          "Netflix",
          "Netflix",
          "Netflix"
         ],
         "legendgroup": "Netflix",
         "line": {
          "color": "#d70c1b",
          "dash": "solid"
         },
         "marker": {
          "symbol": "circle"
         },
         "mode": "lines+markers",
         "name": "Netflix",
         "orientation": "v",
         "showlegend": true,
         "type": "scatter",
         "x": [
          "2011",
          "2012",
          "2013",
          "2014",
          "2015",
          "2016",
          "2017",
          "2018",
          "2019",
          "2020",
          "2021",
          "2022",
          "2023",
          "2024"
         ],
         "xaxis": "x",
         "y": {
          "bdata": "AQAAAAEAAAABAAAAAQAAAAEAAAABAAAAAQAAAAEAAAABAAAAAQAAAAEAAAABAAAAAgAAAAIAAAA=",
          "dtype": "i4"
         },
         "yaxis": "y"
        },
        {
         "customdata": {
          "bdata": "mpmZmZmZ2T8AAAAAAADwPzMzMzMzM+M/AAAAAAAAAECamZmZmZnxPwAAAAAAABBAmpmZmZmZ+T8AAAAAAAAYQAAAAAAAAABAAAAAAAAAJEAzMzMzMzMDQAAAAAAAAChAzczMzMzMCEAAAAAAAAAxQAAAAAAAAAxAAAAAAAAANkAAAAAAAAASQAAAAAAAADlAzczMzMzMHEAAAAAAAABAQDMzMzMzMyNAAAAAAACAREBmZmZmZmYlQAAAAAAAgEZAZmZmZmZmJkCamZmZmRlIQAAAAAAAAChAmpmZmZkZSUA=",
          "dtype": "f8",
          "shape": "14, 2"
         },
         "hovertemplate": "<b>%{hovertext}</b><br><br>Streaming Service=Hulu<br>Year=%{x}<br>Rank=%{y}<br>Revenue ($bn)=%{customdata[0]}<br>Number Subscribers (mm)=%{customdata[1]}<extra></extra>",
         "hovertext": [
          "Hulu",
          "Hulu",
          "Hulu",
          "Hulu",
          "Hulu",
          "Hulu",
          "Hulu",
          "Hulu",
          "Hulu",
          "Hulu",
          "Hulu",
          "Hulu",
          "Hulu",
          "Hulu"
         ],
         "legendgroup": "Hulu",
         "line": {
          "color": "#57e880",
          "dash": "solid"
         },
         "marker": {
          "symbol": "circle"
         },
         "mode": "lines+markers",
         "name": "Hulu",
         "orientation": "v",
         "showlegend": true,
         "type": "scatter",
         "x": [
          "2011",
          "2012",
          "2013",
          "2014",
          "2015",
          "2016",
          "2017",
          "2018",
          "2019",
          "2020",
          "2021",
          "2022",
          "2023",
          "2024"
         ],
         "xaxis": "x",
         "y": {
          "bdata": "AgAAAAIAAAACAAAAAgAAAAIAAAACAAAAAgAAAAIAAAADAAAABQAAAAUAAAAGAAAABgAAAAUAAAA=",
          "dtype": "i4"
         },
         "yaxis": "y"
        },
        {
         "customdata": {
          "bdata": "mpmZmZmZFUAAAAAAAIBWQDMzMzMzMx9AAAAAAABAX0CamZmZmZkmQAAAAAAA4GVAAAAAAAAAKUAAAAAAAEBqQAAAAAAAACxAAAAAAACgbkAAAAAAAAD4fwAAAAAAIHJA",
          "dtype": "f8",
          "shape": "6, 2"
         },
         "hovertemplate": "<b>%{hovertext}</b><br><br>Streaming Service=Amazon Prime<br>Year=%{x}<br>Rank=%{y}<br>Revenue ($bn)=%{customdata[0]}<br>Number Subscribers (mm)=%{customdata[1]}<extra></extra>",
         "hovertext": [
          "Amazon Prime",
          "Amazon Prime",
          "Amazon Prime",
          "Amazon Prime",
          "Amazon Prime",
          "Amazon Prime"
         ],
         "legendgroup": "Amazon Prime",
         "line": {
          "color": "#48a8e2",
          "dash": "solid"
         },
         "marker": {
          "symbol": "circle"
         },
         "mode": "lines+markers",
         "name": "Amazon Prime",
         "orientation": "v",
         "showlegend": true,
         "type": "scatter",
         "x": [
          "2019",
          "2020",
          "2021",
          "2022",
          "2023",
          "2024"
         ],
         "xaxis": "x",
         "y": {
          "bdata": "AgAAAAIAAAACAAAAAgAAAAEAAAABAAAA",
          "dtype": "i4"
         },
         "yaxis": "y"
        },
        {
         "customdata": {
          "bdata": "MzMzMzMzwz8AAAAAAAA0QAAAAAAAANA/AAAAAAAAPEBSuB6F61HYPwAAAAAAAERAzczMzMzM6D8AAAAAAIBJQM3MzMzMzOw/AAAAAAAAUEAAAAAAAAD4fwAAAAAAgFNA",
          "dtype": "f8",
          "shape": "6, 2"
         },
         "hovertemplate": "<b>%{hovertext}</b><br><br>Streaming Service=Tubi<br>Year=%{x}<br>Rank=%{y}<br>Revenue ($bn)=%{customdata[0]}<br>Number Subscribers (mm)=%{customdata[1]}<extra></extra>",
         "hovertext": [
          "Tubi",
          "Tubi",
          "Tubi",
          "Tubi",
          "Tubi",
          "Tubi"
         ],
         "legendgroup": "Tubi",
         "line": {
          "color": "#fbff00",
          "dash": "solid"
         },
         "marker": {
          "symbol": "circle"
         },
         "mode": "lines+markers",
         "name": "Tubi",
         "orientation": "v",
         "showlegend": true,
         "type": "scatter",
         "x": [
          "2019",
          "2020",
          "2021",
          "2022",
          "2023",
          "2024"
         ],
         "xaxis": "x",
         "y": {
          "bdata": "BAAAAAYAAAAGAAAABQAAAAUAAAAEAAAA",
          "dtype": "i4"
         },
         "yaxis": "y"
        },
        {
         "customdata": {
          "bdata": "qFfKMsSxvj/NzMzMzMxLQAwCK4cW2eA/AAAAAADAUEC0yHa+nxrhP83MzMzMTFRAVg4tsp3v3z8zMzMzM/NXQA==",
          "dtype": "f8",
          "shape": "4, 2"
         },
         "hovertemplate": "<b>%{hovertext}</b><br><br>Streaming Service=Max<br>Year=%{x}<br>Rank=%{y}<br>Revenue ($bn)=%{customdata[0]}<br>Number Subscribers (mm)=%{customdata[1]}<extra></extra>",
         "hovertext": [
          "Max",
          "Max",
          "Max",
          "Max"
         ],
         "legendgroup": "Max",
         "line": {
          "color": "#2f16e1",
          "dash": "solid"
         },
         "marker": {
          "symbol": "circle"
         },
         "mode": "lines+markers",
         "name": "Max",
         "orientation": "v",
         "showlegend": true,
         "type": "scatter",
         "x": [
          "2020",
          "2021",
          "2022",
          "2023"
         ],
         "xaxis": "x",
         "y": {
          "bdata": "AwAAAAQAAAAEAAAABAAAAA==",
          "dtype": "i4"
         },
         "yaxis": "y"
        },
        {
         "customdata": {
          "bdata": "ZmZmZmZmBkAAAAAAAMBAQM3MzMzMzBRAmpmZmZkZUUCamZmZmZkdQGZmZmZm5lVAzczMzMzMIECamZmZmTlaQM3MzMzMzCRAZmZmZmZmXUA=",
          "dtype": "f8",
          "shape": "5, 2"
         },
         "hovertemplate": "<b>%{hovertext}</b><br><br>Streaming Service=Disney+<br>Year=%{x}<br>Rank=%{y}<br>Revenue ($bn)=%{customdata[0]}<br>Number Subscribers (mm)=%{customdata[1]}<extra></extra>",
         "hovertext": [
          "Disney+",
          "Disney+",
          "Disney+",
          "Disney+",
          "Disney+"
         ],
         "legendgroup": "Disney+",
         "line": {
          "color": "#50b9ca",
          "dash": "solid"
         },
         "marker": {
          "symbol": "circle"
         },
         "mode": "lines+markers",
         "name": "Disney+",
         "orientation": "v",
         "showlegend": true,
         "type": "scatter",
         "x": [
          "2020",
          "2021",
          "2022",
          "2023",
          "2024"
         ],
         "xaxis": "x",
         "y": {
          "bdata": "BAAAAAMAAAADAAAAAwAAAAMAAAA=",
          "dtype": "i4"
         },
         "yaxis": "y"
        }
       ],
       "layout": {
        "legend": {
         "title": {
          "text": "Streaming Service"
         },
         "tracegroupgap": 0
        },
        "margin": {
         "t": 60
        },
        "template": {
         "data": {
          "bar": [
           {
            "error_x": {
             "color": "#2a3f5f"
            },
            "error_y": {
             "color": "#2a3f5f"
            },
            "marker": {
             "line": {
              "color": "#E5ECF6",
              "width": 0.5
             },
             "pattern": {
              "fillmode": "overlay",
              "size": 10,
              "solidity": 0.2
             }
            },
            "type": "bar"
           }
          ],
          "barpolar": [
           {
            "marker": {
             "line": {
              "color": "#E5ECF6",
              "width": 0.5
             },
             "pattern": {
              "fillmode": "overlay",
              "size": 10,
              "solidity": 0.2
             }
            },
            "type": "barpolar"
           }
          ],
          "carpet": [
           {
            "aaxis": {
             "endlinecolor": "#2a3f5f",
             "gridcolor": "white",
             "linecolor": "white",
             "minorgridcolor": "white",
             "startlinecolor": "#2a3f5f"
            },
            "baxis": {
             "endlinecolor": "#2a3f5f",
             "gridcolor": "white",
             "linecolor": "white",
             "minorgridcolor": "white",
             "startlinecolor": "#2a3f5f"
            },
            "type": "carpet"
           }
          ],
          "choropleth": [
           {
            "colorbar": {
             "outlinewidth": 0,
             "ticks": ""
            },
            "type": "choropleth"
           }
          ],
          "contour": [
           {
            "colorbar": {
             "outlinewidth": 0,
             "ticks": ""
            },
            "colorscale": [
             [
              0,
              "#0d0887"
             ],
             [
              0.1111111111111111,
              "#46039f"
             ],
             [
              0.2222222222222222,
              "#7201a8"
             ],
             [
              0.3333333333333333,
              "#9c179e"
             ],
             [
              0.4444444444444444,
              "#bd3786"
             ],
             [
              0.5555555555555556,
              "#d8576b"
             ],
             [
              0.6666666666666666,
              "#ed7953"
             ],
             [
              0.7777777777777778,
              "#fb9f3a"
             ],
             [
              0.8888888888888888,
              "#fdca26"
             ],
             [
              1,
              "#f0f921"
             ]
            ],
            "type": "contour"
           }
          ],
          "contourcarpet": [
           {
            "colorbar": {
             "outlinewidth": 0,
             "ticks": ""
            },
            "type": "contourcarpet"
           }
          ],
          "heatmap": [
           {
            "colorbar": {
             "outlinewidth": 0,
             "ticks": ""
            },
            "colorscale": [
             [
              0,
              "#0d0887"
             ],
             [
              0.1111111111111111,
              "#46039f"
             ],
             [
              0.2222222222222222,
              "#7201a8"
             ],
             [
              0.3333333333333333,
              "#9c179e"
             ],
             [
              0.4444444444444444,
              "#bd3786"
             ],
             [
              0.5555555555555556,
              "#d8576b"
             ],
             [
              0.6666666666666666,
              "#ed7953"
             ],
             [
              0.7777777777777778,
              "#fb9f3a"
             ],
             [
              0.8888888888888888,
              "#fdca26"
             ],
             [
              1,
              "#f0f921"
             ]
            ],
            "type": "heatmap"
           }
          ],
          "histogram": [
           {
            "marker": {
             "pattern": {
              "fillmode": "overlay",
              "size": 10,
              "solidity": 0.2
             }
            },
            "type": "histogram"
           }
          ],
          "histogram2d": [
           {
            "colorbar": {
             "outlinewidth": 0,
             "ticks": ""
            },
            "colorscale": [
             [
              0,
              "#0d0887"
             ],
             [
              0.1111111111111111,
              "#46039f"
             ],
             [
              0.2222222222222222,
              "#7201a8"
             ],
             [
              0.3333333333333333,
              "#9c179e"
             ],
             [
              0.4444444444444444,
              "#bd3786"
             ],
             [
              0.5555555555555556,
              "#d8576b"
             ],
             [
              0.6666666666666666,
              "#ed7953"
             ],
             [
              0.7777777777777778,
              "#fb9f3a"
             ],
             [
              0.8888888888888888,
              "#fdca26"
             ],
             [
              1,
              "#f0f921"
             ]
            ],
            "type": "histogram2d"
           }
          ],
          "histogram2dcontour": [
           {
            "colorbar": {
             "outlinewidth": 0,
             "ticks": ""
            },
            "colorscale": [
             [
              0,
              "#0d0887"
             ],
             [
              0.1111111111111111,
              "#46039f"
             ],
             [
              0.2222222222222222,
              "#7201a8"
             ],
             [
              0.3333333333333333,
              "#9c179e"
             ],
             [
              0.4444444444444444,
              "#bd3786"
             ],
             [
              0.5555555555555556,
              "#d8576b"
             ],
             [
              0.6666666666666666,
              "#ed7953"
             ],
             [
              0.7777777777777778,
              "#fb9f3a"
             ],
             [
              0.8888888888888888,
              "#fdca26"
             ],
             [
              1,
              "#f0f921"
             ]
            ],
            "type": "histogram2dcontour"
           }
          ],
          "mesh3d": [
           {
            "colorbar": {
             "outlinewidth": 0,
             "ticks": ""
            },
            "type": "mesh3d"
           }
          ],
          "parcoords": [
           {
            "line": {
             "colorbar": {
              "outlinewidth": 0,
              "ticks": ""
             }
            },
            "type": "parcoords"
           }
          ],
          "pie": [
           {
            "automargin": true,
            "type": "pie"
           }
          ],
          "scatter": [
           {
            "fillpattern": {
             "fillmode": "overlay",
             "size": 10,
             "solidity": 0.2
            },
            "type": "scatter"
           }
          ],
          "scatter3d": [
           {
            "line": {
             "colorbar": {
              "outlinewidth": 0,
              "ticks": ""
             }
            },
            "marker": {
             "colorbar": {
              "outlinewidth": 0,
              "ticks": ""
             }
            },
            "type": "scatter3d"
           }
          ],
          "scattercarpet": [
           {
            "marker": {
             "colorbar": {
              "outlinewidth": 0,
              "ticks": ""
             }
            },
            "type": "scattercarpet"
           }
          ],
          "scattergeo": [
           {
            "marker": {
             "colorbar": {
              "outlinewidth": 0,
              "ticks": ""
             }
            },
            "type": "scattergeo"
           }
          ],
          "scattergl": [
           {
            "marker": {
             "colorbar": {
              "outlinewidth": 0,
              "ticks": ""
             }
            },
            "type": "scattergl"
           }
          ],
          "scattermap": [
           {
            "marker": {
             "colorbar": {
              "outlinewidth": 0,
              "ticks": ""
             }
            },
            "type": "scattermap"
           }
          ],
          "scattermapbox": [
           {
            "marker": {
             "colorbar": {
              "outlinewidth": 0,
              "ticks": ""
             }
            },
            "type": "scattermapbox"
           }
          ],
          "scatterpolar": [
           {
            "marker": {
             "colorbar": {
              "outlinewidth": 0,
              "ticks": ""
             }
            },
            "type": "scatterpolar"
           }
          ],
          "scatterpolargl": [
           {
            "marker": {
             "colorbar": {
              "outlinewidth": 0,
              "ticks": ""
             }
            },
            "type": "scatterpolargl"
           }
          ],
          "scatterternary": [
           {
            "marker": {
             "colorbar": {
              "outlinewidth": 0,
              "ticks": ""
             }
            },
            "type": "scatterternary"
           }
          ],
          "surface": [
           {
            "colorbar": {
             "outlinewidth": 0,
             "ticks": ""
            },
            "colorscale": [
             [
              0,
              "#0d0887"
             ],
             [
              0.1111111111111111,
              "#46039f"
             ],
             [
              0.2222222222222222,
              "#7201a8"
             ],
             [
              0.3333333333333333,
              "#9c179e"
             ],
             [
              0.4444444444444444,
              "#bd3786"
             ],
             [
              0.5555555555555556,
              "#d8576b"
             ],
             [
              0.6666666666666666,
              "#ed7953"
             ],
             [
              0.7777777777777778,
              "#fb9f3a"
             ],
             [
              0.8888888888888888,
              "#fdca26"
             ],
             [
              1,
              "#f0f921"
             ]
            ],
            "type": "surface"
           }
          ],
          "table": [
           {
            "cells": {
             "fill": {
              "color": "#EBF0F8"
             },
             "line": {
              "color": "white"
             }
            },
            "header": {
             "fill": {
              "color": "#C8D4E3"
             },
             "line": {
              "color": "white"
             }
            },
            "type": "table"
           }
          ]
         },
         "layout": {
          "annotationdefaults": {
           "arrowcolor": "#2a3f5f",
           "arrowhead": 0,
           "arrowwidth": 1
          },
          "autotypenumbers": "strict",
          "coloraxis": {
           "colorbar": {
            "outlinewidth": 0,
            "ticks": ""
           }
          },
          "colorscale": {
           "diverging": [
            [
             0,
             "#8e0152"
            ],
            [
             0.1,
             "#c51b7d"
            ],
            [
             0.2,
             "#de77ae"
            ],
            [
             0.3,
             "#f1b6da"
            ],
            [
             0.4,
             "#fde0ef"
            ],
            [
             0.5,
             "#f7f7f7"
            ],
            [
             0.6,
             "#e6f5d0"
            ],
            [
             0.7,
             "#b8e186"
            ],
            [
             0.8,
             "#7fbc41"
            ],
            [
             0.9,
             "#4d9221"
            ],
            [
             1,
             "#276419"
            ]
           ],
           "sequential": [
            [
             0,
             "#0d0887"
            ],
            [
             0.1111111111111111,
             "#46039f"
            ],
            [
             0.2222222222222222,
             "#7201a8"
            ],
            [
             0.3333333333333333,
             "#9c179e"
            ],
            [
             0.4444444444444444,
             "#bd3786"
            ],
            [
             0.5555555555555556,
             "#d8576b"
            ],
            [
             0.6666666666666666,
             "#ed7953"
            ],
            [
             0.7777777777777778,
             "#fb9f3a"
            ],
            [
             0.8888888888888888,
             "#fdca26"
            ],
            [
             1,
             "#f0f921"
            ]
           ],
           "sequentialminus": [
            [
             0,
             "#0d0887"
            ],
            [
             0.1111111111111111,
             "#46039f"
            ],
            [
             0.2222222222222222,
             "#7201a8"
            ],
            [
             0.3333333333333333,
             "#9c179e"
            ],
            [
             0.4444444444444444,
             "#bd3786"
            ],
            [
             0.5555555555555556,
             "#d8576b"
            ],
            [
             0.6666666666666666,
             "#ed7953"
            ],
            [
             0.7777777777777778,
             "#fb9f3a"
            ],
            [
             0.8888888888888888,
             "#fdca26"
            ],
            [
             1,
             "#f0f921"
            ]
           ]
          },
          "colorway": [
           "#636efa",
           "#EF553B",
           "#00cc96",
           "#ab63fa",
           "#FFA15A",
           "#19d3f3",
           "#FF6692",
           "#B6E880",
           "#FF97FF",
           "#FECB52"
          ],
          "font": {
           "color": "#2a3f5f"
          },
          "geo": {
           "bgcolor": "white",
           "lakecolor": "white",
           "landcolor": "#E5ECF6",
           "showlakes": true,
           "showland": true,
           "subunitcolor": "white"
          },
          "hoverlabel": {
           "align": "left"
          },
          "hovermode": "closest",
          "mapbox": {
           "style": "light"
          },
          "paper_bgcolor": "white",
          "plot_bgcolor": "#E5ECF6",
          "polar": {
           "angularaxis": {
            "gridcolor": "white",
            "linecolor": "white",
            "ticks": ""
           },
           "bgcolor": "#E5ECF6",
           "radialaxis": {
            "gridcolor": "white",
            "linecolor": "white",
            "ticks": ""
           }
          },
          "scene": {
           "xaxis": {
            "backgroundcolor": "#E5ECF6",
            "gridcolor": "white",
            "gridwidth": 2,
            "linecolor": "white",
            "showbackground": true,
            "ticks": "",
            "zerolinecolor": "white"
           },
           "yaxis": {
            "backgroundcolor": "#E5ECF6",
            "gridcolor": "white",
            "gridwidth": 2,
            "linecolor": "white",
            "showbackground": true,
            "ticks": "",
            "zerolinecolor": "white"
           },
           "zaxis": {
            "backgroundcolor": "#E5ECF6",
            "gridcolor": "white",
            "gridwidth": 2,
            "linecolor": "white",
            "showbackground": true,
            "ticks": "",
            "zerolinecolor": "white"
           }
          },
          "shapedefaults": {
           "line": {
            "color": "#2a3f5f"
           }
          },
          "ternary": {
           "aaxis": {
            "gridcolor": "white",
            "linecolor": "white",
            "ticks": ""
           },
           "baxis": {
            "gridcolor": "white",
            "linecolor": "white",
            "ticks": ""
           },
           "bgcolor": "#E5ECF6",
           "caxis": {
            "gridcolor": "white",
            "linecolor": "white",
            "ticks": ""
           }
          },
          "title": {
           "x": 0.05
          },
          "xaxis": {
           "automargin": true,
           "gridcolor": "white",
           "linecolor": "white",
           "ticks": "",
           "title": {
            "standoff": 15
           },
           "zerolinecolor": "white",
           "zerolinewidth": 2
          },
          "yaxis": {
           "automargin": true,
           "gridcolor": "white",
           "linecolor": "white",
           "ticks": "",
           "title": {
            "standoff": 15
           },
           "zerolinecolor": "white",
           "zerolinewidth": 2
          }
         }
        },
        "xaxis": {
         "anchor": "y",
         "domain": [
          0,
          1
         ],
         "showgrid": false,
         "showticklabels": true,
         "title": {
          "text": "Year"
         },
         "visible": true
        },
        "yaxis": {
         "anchor": "x",
         "autorange": "reversed",
         "domain": [
          0,
          1
         ],
         "showgrid": false,
         "showticklabels": true,
         "title": {
          "text": "Rank"
         },
         "visible": true
        }
       }
      }
     },
     "metadata": {},
     "output_type": "display_data"
    }
   ],
   "source": [
    "##Create bump plot using data above\n",
    "fig = px.line(df_subscriber_counts, x=\"Year\", y=\"Rank\",\n",
    "              color=\"Streaming Service\",\n",
    "              color_discrete_map=color_dict,\n",
    "              markers=True,\n",
    "              hover_name=\"Streaming Service\",\n",
    "              hover_data=[\"Revenue ($bn)\", \"Number Subscribers (mm)\"]\n",
    "              )\n",
    "fig.update_yaxes(autorange='reversed', title=\"Rank\", visible=True, showticklabels=True)\n",
    "fig.update_xaxes(title=\"Year\", visible=True, showticklabels=True)\n",
    "fig.update_layout(xaxis=dict(showgrid=False),\n",
    "                  yaxis=dict(showgrid=False))\n",
    "\n",
    "#Show plot to check how it looks so far\n",
    "fig.show()"
   ]
  },
  {
   "cell_type": "code",
   "execution_count": 57,
   "metadata": {},
   "outputs": [
    {
     "data": {
      "application/vnd.plotly.v1+json": {
       "config": {
        "plotlyServerURL": "https://plotly.com"
       },
       "data": [
        {
         "customdata": {
          "bdata": "zczMzMzMCEAAAAAAAIA1QAAAAAAAAAxA9ihcj8K1OUAAAAAAAAASQHE9Ctej0EFAmpmZmZmZFUAfhetRuP5HQM3MzMzMzBpAexSuR+FaT0CamZmZmZkhQJqZmZmZ+VNAMzMzMzMzJ0DD9Shcj8JYQGZmZmZmZi9AZmZmZmYWX0CamZmZmRk0QFK4HoXr8WJAZmZmZmbmOEBmZmZmZh5oQJqZmZmZmT1AAAAAAAAgakCamZmZmZk/QDMzMzMzk2tAmpmZmZnZQECamZmZmcltQAAAAAAAgENAmpmZmZlZcUA=",
          "dtype": "f8",
          "shape": "14, 2"
         },
         "hovertemplate": "<b>%{hovertext}</b><br><br>Streaming Service=Netflix<br>Year=%{x}<br>Rank=%{y}<br>Revenue ($bn)=%{customdata[0]}<br>Number Subscribers (mm)=%{customdata[1]}<extra></extra>",
         "hovertext": [
          "Netflix",
          "Netflix",
          "Netflix",
          "Netflix",
          "Netflix",
          "Netflix",
          "Netflix",
          "Netflix",
          "Netflix",
          "Netflix",
          "Netflix",
          "Netflix",
          "Netflix",
          "Netflix"
         ],
         "legendgroup": "Netflix",
         "line": {
          "color": "#d70c1b",
          "dash": "solid"
         },
         "marker": {
          "symbol": "circle"
         },
         "mode": "lines+markers",
         "name": "Netflix",
         "orientation": "v",
         "showlegend": true,
         "type": "scatter",
         "x": [
          "2011",
          "2012",
          "2013",
          "2014",
          "2015",
          "2016",
          "2017",
          "2018",
          "2019",
          "2020",
          "2021",
          "2022",
          "2023",
          "2024"
         ],
         "xaxis": "x",
         "y": {
          "bdata": "AQAAAAEAAAABAAAAAQAAAAEAAAABAAAAAQAAAAEAAAABAAAAAQAAAAEAAAABAAAAAgAAAAIAAAA=",
          "dtype": "i4"
         },
         "yaxis": "y"
        },
        {
         "customdata": {
          "bdata": "mpmZmZmZ2T8AAAAAAADwPzMzMzMzM+M/AAAAAAAAAECamZmZmZnxPwAAAAAAABBAmpmZmZmZ+T8AAAAAAAAYQAAAAAAAAABAAAAAAAAAJEAzMzMzMzMDQAAAAAAAAChAzczMzMzMCEAAAAAAAAAxQAAAAAAAAAxAAAAAAAAANkAAAAAAAAASQAAAAAAAADlAzczMzMzMHEAAAAAAAABAQDMzMzMzMyNAAAAAAACAREBmZmZmZmYlQAAAAAAAgEZAZmZmZmZmJkCamZmZmRlIQAAAAAAAAChAmpmZmZkZSUA=",
          "dtype": "f8",
          "shape": "14, 2"
         },
         "hovertemplate": "<b>%{hovertext}</b><br><br>Streaming Service=Hulu<br>Year=%{x}<br>Rank=%{y}<br>Revenue ($bn)=%{customdata[0]}<br>Number Subscribers (mm)=%{customdata[1]}<extra></extra>",
         "hovertext": [
          "Hulu",
          "Hulu",
          "Hulu",
          "Hulu",
          "Hulu",
          "Hulu",
          "Hulu",
          "Hulu",
          "Hulu",
          "Hulu",
          "Hulu",
          "Hulu",
          "Hulu",
          "Hulu"
         ],
         "legendgroup": "Hulu",
         "line": {
          "color": "#57e880",
          "dash": "solid"
         },
         "marker": {
          "symbol": "circle"
         },
         "mode": "lines+markers",
         "name": "Hulu",
         "orientation": "v",
         "showlegend": true,
         "type": "scatter",
         "x": [
          "2011",
          "2012",
          "2013",
          "2014",
          "2015",
          "2016",
          "2017",
          "2018",
          "2019",
          "2020",
          "2021",
          "2022",
          "2023",
          "2024"
         ],
         "xaxis": "x",
         "y": {
          "bdata": "AgAAAAIAAAACAAAAAgAAAAIAAAACAAAAAgAAAAIAAAADAAAABQAAAAUAAAAGAAAABgAAAAUAAAA=",
          "dtype": "i4"
         },
         "yaxis": "y"
        },
        {
         "customdata": {
          "bdata": "mpmZmZmZFUAAAAAAAIBWQDMzMzMzMx9AAAAAAABAX0CamZmZmZkmQAAAAAAA4GVAAAAAAAAAKUAAAAAAAEBqQAAAAAAAACxAAAAAAACgbkAAAAAAAAD4fwAAAAAAIHJA",
          "dtype": "f8",
          "shape": "6, 2"
         },
         "hovertemplate": "<b>%{hovertext}</b><br><br>Streaming Service=Amazon Prime<br>Year=%{x}<br>Rank=%{y}<br>Revenue ($bn)=%{customdata[0]}<br>Number Subscribers (mm)=%{customdata[1]}<extra></extra>",
         "hovertext": [
          "Amazon Prime",
          "Amazon Prime",
          "Amazon Prime",
          "Amazon Prime",
          "Amazon Prime",
          "Amazon Prime"
         ],
         "legendgroup": "Amazon Prime",
         "line": {
          "color": "#48a8e2",
          "dash": "solid"
         },
         "marker": {
          "symbol": "circle"
         },
         "mode": "lines+markers",
         "name": "Amazon Prime",
         "orientation": "v",
         "showlegend": true,
         "type": "scatter",
         "x": [
          "2019",
          "2020",
          "2021",
          "2022",
          "2023",
          "2024"
         ],
         "xaxis": "x",
         "y": {
          "bdata": "AgAAAAIAAAACAAAAAgAAAAEAAAABAAAA",
          "dtype": "i4"
         },
         "yaxis": "y"
        },
        {
         "customdata": {
          "bdata": "MzMzMzMzwz8AAAAAAAA0QAAAAAAAANA/AAAAAAAAPEBSuB6F61HYPwAAAAAAAERAzczMzMzM6D8AAAAAAIBJQM3MzMzMzOw/AAAAAAAAUEAAAAAAAAD4fwAAAAAAgFNA",
          "dtype": "f8",
          "shape": "6, 2"
         },
         "hovertemplate": "<b>%{hovertext}</b><br><br>Streaming Service=Tubi<br>Year=%{x}<br>Rank=%{y}<br>Revenue ($bn)=%{customdata[0]}<br>Number Subscribers (mm)=%{customdata[1]}<extra></extra>",
         "hovertext": [
          "Tubi",
          "Tubi",
          "Tubi",
          "Tubi",
          "Tubi",
          "Tubi"
         ],
         "legendgroup": "Tubi",
         "line": {
          "color": "#fbff00",
          "dash": "solid"
         },
         "marker": {
          "symbol": "circle"
         },
         "mode": "lines+markers",
         "name": "Tubi",
         "orientation": "v",
         "showlegend": true,
         "type": "scatter",
         "x": [
          "2019",
          "2020",
          "2021",
          "2022",
          "2023",
          "2024"
         ],
         "xaxis": "x",
         "y": {
          "bdata": "BAAAAAYAAAAGAAAABQAAAAUAAAAEAAAA",
          "dtype": "i4"
         },
         "yaxis": "y"
        },
        {
         "customdata": {
          "bdata": "qFfKMsSxvj/NzMzMzMxLQAwCK4cW2eA/AAAAAADAUEC0yHa+nxrhP83MzMzMTFRAVg4tsp3v3z8zMzMzM/NXQA==",
          "dtype": "f8",
          "shape": "4, 2"
         },
         "hovertemplate": "<b>%{hovertext}</b><br><br>Streaming Service=Max<br>Year=%{x}<br>Rank=%{y}<br>Revenue ($bn)=%{customdata[0]}<br>Number Subscribers (mm)=%{customdata[1]}<extra></extra>",
         "hovertext": [
          "Max",
          "Max",
          "Max",
          "Max"
         ],
         "legendgroup": "Max",
         "line": {
          "color": "#2f16e1",
          "dash": "solid"
         },
         "marker": {
          "symbol": "circle"
         },
         "mode": "lines+markers",
         "name": "Max",
         "orientation": "v",
         "showlegend": true,
         "type": "scatter",
         "x": [
          "2020",
          "2021",
          "2022",
          "2023"
         ],
         "xaxis": "x",
         "y": {
          "bdata": "AwAAAAQAAAAEAAAABAAAAA==",
          "dtype": "i4"
         },
         "yaxis": "y"
        },
        {
         "customdata": {
          "bdata": "ZmZmZmZmBkAAAAAAAMBAQM3MzMzMzBRAmpmZmZkZUUCamZmZmZkdQGZmZmZm5lVAzczMzMzMIECamZmZmTlaQM3MzMzMzCRAZmZmZmZmXUA=",
          "dtype": "f8",
          "shape": "5, 2"
         },
         "hovertemplate": "<b>%{hovertext}</b><br><br>Streaming Service=Disney+<br>Year=%{x}<br>Rank=%{y}<br>Revenue ($bn)=%{customdata[0]}<br>Number Subscribers (mm)=%{customdata[1]}<extra></extra>",
         "hovertext": [
          "Disney+",
          "Disney+",
          "Disney+",
          "Disney+",
          "Disney+"
         ],
         "legendgroup": "Disney+",
         "line": {
          "color": "#50b9ca",
          "dash": "solid"
         },
         "marker": {
          "symbol": "circle"
         },
         "mode": "lines+markers",
         "name": "Disney+",
         "orientation": "v",
         "showlegend": true,
         "type": "scatter",
         "x": [
          "2020",
          "2021",
          "2022",
          "2023",
          "2024"
         ],
         "xaxis": "x",
         "y": {
          "bdata": "BAAAAAMAAAADAAAAAwAAAAMAAAA=",
          "dtype": "i4"
         },
         "yaxis": "y"
        }
       ],
       "layout": {
        "legend": {
         "title": {
          "text": "Streaming Service"
         },
         "tracegroupgap": 0
        },
        "margin": {
         "t": 60
        },
        "template": {
         "data": {
          "bar": [
           {
            "error_x": {
             "color": "#2a3f5f"
            },
            "error_y": {
             "color": "#2a3f5f"
            },
            "marker": {
             "line": {
              "color": "#E5ECF6",
              "width": 0.5
             },
             "pattern": {
              "fillmode": "overlay",
              "size": 10,
              "solidity": 0.2
             }
            },
            "type": "bar"
           }
          ],
          "barpolar": [
           {
            "marker": {
             "line": {
              "color": "#E5ECF6",
              "width": 0.5
             },
             "pattern": {
              "fillmode": "overlay",
              "size": 10,
              "solidity": 0.2
             }
            },
            "type": "barpolar"
           }
          ],
          "carpet": [
           {
            "aaxis": {
             "endlinecolor": "#2a3f5f",
             "gridcolor": "white",
             "linecolor": "white",
             "minorgridcolor": "white",
             "startlinecolor": "#2a3f5f"
            },
            "baxis": {
             "endlinecolor": "#2a3f5f",
             "gridcolor": "white",
             "linecolor": "white",
             "minorgridcolor": "white",
             "startlinecolor": "#2a3f5f"
            },
            "type": "carpet"
           }
          ],
          "choropleth": [
           {
            "colorbar": {
             "outlinewidth": 0,
             "ticks": ""
            },
            "type": "choropleth"
           }
          ],
          "contour": [
           {
            "colorbar": {
             "outlinewidth": 0,
             "ticks": ""
            },
            "colorscale": [
             [
              0,
              "#0d0887"
             ],
             [
              0.1111111111111111,
              "#46039f"
             ],
             [
              0.2222222222222222,
              "#7201a8"
             ],
             [
              0.3333333333333333,
              "#9c179e"
             ],
             [
              0.4444444444444444,
              "#bd3786"
             ],
             [
              0.5555555555555556,
              "#d8576b"
             ],
             [
              0.6666666666666666,
              "#ed7953"
             ],
             [
              0.7777777777777778,
              "#fb9f3a"
             ],
             [
              0.8888888888888888,
              "#fdca26"
             ],
             [
              1,
              "#f0f921"
             ]
            ],
            "type": "contour"
           }
          ],
          "contourcarpet": [
           {
            "colorbar": {
             "outlinewidth": 0,
             "ticks": ""
            },
            "type": "contourcarpet"
           }
          ],
          "heatmap": [
           {
            "colorbar": {
             "outlinewidth": 0,
             "ticks": ""
            },
            "colorscale": [
             [
              0,
              "#0d0887"
             ],
             [
              0.1111111111111111,
              "#46039f"
             ],
             [
              0.2222222222222222,
              "#7201a8"
             ],
             [
              0.3333333333333333,
              "#9c179e"
             ],
             [
              0.4444444444444444,
              "#bd3786"
             ],
             [
              0.5555555555555556,
              "#d8576b"
             ],
             [
              0.6666666666666666,
              "#ed7953"
             ],
             [
              0.7777777777777778,
              "#fb9f3a"
             ],
             [
              0.8888888888888888,
              "#fdca26"
             ],
             [
              1,
              "#f0f921"
             ]
            ],
            "type": "heatmap"
           }
          ],
          "histogram": [
           {
            "marker": {
             "pattern": {
              "fillmode": "overlay",
              "size": 10,
              "solidity": 0.2
             }
            },
            "type": "histogram"
           }
          ],
          "histogram2d": [
           {
            "colorbar": {
             "outlinewidth": 0,
             "ticks": ""
            },
            "colorscale": [
             [
              0,
              "#0d0887"
             ],
             [
              0.1111111111111111,
              "#46039f"
             ],
             [
              0.2222222222222222,
              "#7201a8"
             ],
             [
              0.3333333333333333,
              "#9c179e"
             ],
             [
              0.4444444444444444,
              "#bd3786"
             ],
             [
              0.5555555555555556,
              "#d8576b"
             ],
             [
              0.6666666666666666,
              "#ed7953"
             ],
             [
              0.7777777777777778,
              "#fb9f3a"
             ],
             [
              0.8888888888888888,
              "#fdca26"
             ],
             [
              1,
              "#f0f921"
             ]
            ],
            "type": "histogram2d"
           }
          ],
          "histogram2dcontour": [
           {
            "colorbar": {
             "outlinewidth": 0,
             "ticks": ""
            },
            "colorscale": [
             [
              0,
              "#0d0887"
             ],
             [
              0.1111111111111111,
              "#46039f"
             ],
             [
              0.2222222222222222,
              "#7201a8"
             ],
             [
              0.3333333333333333,
              "#9c179e"
             ],
             [
              0.4444444444444444,
              "#bd3786"
             ],
             [
              0.5555555555555556,
              "#d8576b"
             ],
             [
              0.6666666666666666,
              "#ed7953"
             ],
             [
              0.7777777777777778,
              "#fb9f3a"
             ],
             [
              0.8888888888888888,
              "#fdca26"
             ],
             [
              1,
              "#f0f921"
             ]
            ],
            "type": "histogram2dcontour"
           }
          ],
          "mesh3d": [
           {
            "colorbar": {
             "outlinewidth": 0,
             "ticks": ""
            },
            "type": "mesh3d"
           }
          ],
          "parcoords": [
           {
            "line": {
             "colorbar": {
              "outlinewidth": 0,
              "ticks": ""
             }
            },
            "type": "parcoords"
           }
          ],
          "pie": [
           {
            "automargin": true,
            "type": "pie"
           }
          ],
          "scatter": [
           {
            "fillpattern": {
             "fillmode": "overlay",
             "size": 10,
             "solidity": 0.2
            },
            "type": "scatter"
           }
          ],
          "scatter3d": [
           {
            "line": {
             "colorbar": {
              "outlinewidth": 0,
              "ticks": ""
             }
            },
            "marker": {
             "colorbar": {
              "outlinewidth": 0,
              "ticks": ""
             }
            },
            "type": "scatter3d"
           }
          ],
          "scattercarpet": [
           {
            "marker": {
             "colorbar": {
              "outlinewidth": 0,
              "ticks": ""
             }
            },
            "type": "scattercarpet"
           }
          ],
          "scattergeo": [
           {
            "marker": {
             "colorbar": {
              "outlinewidth": 0,
              "ticks": ""
             }
            },
            "type": "scattergeo"
           }
          ],
          "scattergl": [
           {
            "marker": {
             "colorbar": {
              "outlinewidth": 0,
              "ticks": ""
             }
            },
            "type": "scattergl"
           }
          ],
          "scattermap": [
           {
            "marker": {
             "colorbar": {
              "outlinewidth": 0,
              "ticks": ""
             }
            },
            "type": "scattermap"
           }
          ],
          "scattermapbox": [
           {
            "marker": {
             "colorbar": {
              "outlinewidth": 0,
              "ticks": ""
             }
            },
            "type": "scattermapbox"
           }
          ],
          "scatterpolar": [
           {
            "marker": {
             "colorbar": {
              "outlinewidth": 0,
              "ticks": ""
             }
            },
            "type": "scatterpolar"
           }
          ],
          "scatterpolargl": [
           {
            "marker": {
             "colorbar": {
              "outlinewidth": 0,
              "ticks": ""
             }
            },
            "type": "scatterpolargl"
           }
          ],
          "scatterternary": [
           {
            "marker": {
             "colorbar": {
              "outlinewidth": 0,
              "ticks": ""
             }
            },
            "type": "scatterternary"
           }
          ],
          "surface": [
           {
            "colorbar": {
             "outlinewidth": 0,
             "ticks": ""
            },
            "colorscale": [
             [
              0,
              "#0d0887"
             ],
             [
              0.1111111111111111,
              "#46039f"
             ],
             [
              0.2222222222222222,
              "#7201a8"
             ],
             [
              0.3333333333333333,
              "#9c179e"
             ],
             [
              0.4444444444444444,
              "#bd3786"
             ],
             [
              0.5555555555555556,
              "#d8576b"
             ],
             [
              0.6666666666666666,
              "#ed7953"
             ],
             [
              0.7777777777777778,
              "#fb9f3a"
             ],
             [
              0.8888888888888888,
              "#fdca26"
             ],
             [
              1,
              "#f0f921"
             ]
            ],
            "type": "surface"
           }
          ],
          "table": [
           {
            "cells": {
             "fill": {
              "color": "#EBF0F8"
             },
             "line": {
              "color": "white"
             }
            },
            "header": {
             "fill": {
              "color": "#C8D4E3"
             },
             "line": {
              "color": "white"
             }
            },
            "type": "table"
           }
          ]
         },
         "layout": {
          "annotationdefaults": {
           "arrowcolor": "#2a3f5f",
           "arrowhead": 0,
           "arrowwidth": 1
          },
          "autotypenumbers": "strict",
          "coloraxis": {
           "colorbar": {
            "outlinewidth": 0,
            "ticks": ""
           }
          },
          "colorscale": {
           "diverging": [
            [
             0,
             "#8e0152"
            ],
            [
             0.1,
             "#c51b7d"
            ],
            [
             0.2,
             "#de77ae"
            ],
            [
             0.3,
             "#f1b6da"
            ],
            [
             0.4,
             "#fde0ef"
            ],
            [
             0.5,
             "#f7f7f7"
            ],
            [
             0.6,
             "#e6f5d0"
            ],
            [
             0.7,
             "#b8e186"
            ],
            [
             0.8,
             "#7fbc41"
            ],
            [
             0.9,
             "#4d9221"
            ],
            [
             1,
             "#276419"
            ]
           ],
           "sequential": [
            [
             0,
             "#0d0887"
            ],
            [
             0.1111111111111111,
             "#46039f"
            ],
            [
             0.2222222222222222,
             "#7201a8"
            ],
            [
             0.3333333333333333,
             "#9c179e"
            ],
            [
             0.4444444444444444,
             "#bd3786"
            ],
            [
             0.5555555555555556,
             "#d8576b"
            ],
            [
             0.6666666666666666,
             "#ed7953"
            ],
            [
             0.7777777777777778,
             "#fb9f3a"
            ],
            [
             0.8888888888888888,
             "#fdca26"
            ],
            [
             1,
             "#f0f921"
            ]
           ],
           "sequentialminus": [
            [
             0,
             "#0d0887"
            ],
            [
             0.1111111111111111,
             "#46039f"
            ],
            [
             0.2222222222222222,
             "#7201a8"
            ],
            [
             0.3333333333333333,
             "#9c179e"
            ],
            [
             0.4444444444444444,
             "#bd3786"
            ],
            [
             0.5555555555555556,
             "#d8576b"
            ],
            [
             0.6666666666666666,
             "#ed7953"
            ],
            [
             0.7777777777777778,
             "#fb9f3a"
            ],
            [
             0.8888888888888888,
             "#fdca26"
            ],
            [
             1,
             "#f0f921"
            ]
           ]
          },
          "colorway": [
           "#636efa",
           "#EF553B",
           "#00cc96",
           "#ab63fa",
           "#FFA15A",
           "#19d3f3",
           "#FF6692",
           "#B6E880",
           "#FF97FF",
           "#FECB52"
          ],
          "font": {
           "color": "#2a3f5f"
          },
          "geo": {
           "bgcolor": "white",
           "lakecolor": "white",
           "landcolor": "#E5ECF6",
           "showlakes": true,
           "showland": true,
           "subunitcolor": "white"
          },
          "hoverlabel": {
           "align": "left"
          },
          "hovermode": "closest",
          "mapbox": {
           "style": "light"
          },
          "paper_bgcolor": "white",
          "plot_bgcolor": "#E5ECF6",
          "polar": {
           "angularaxis": {
            "gridcolor": "white",
            "linecolor": "white",
            "ticks": ""
           },
           "bgcolor": "#E5ECF6",
           "radialaxis": {
            "gridcolor": "white",
            "linecolor": "white",
            "ticks": ""
           }
          },
          "scene": {
           "xaxis": {
            "backgroundcolor": "#E5ECF6",
            "gridcolor": "white",
            "gridwidth": 2,
            "linecolor": "white",
            "showbackground": true,
            "ticks": "",
            "zerolinecolor": "white"
           },
           "yaxis": {
            "backgroundcolor": "#E5ECF6",
            "gridcolor": "white",
            "gridwidth": 2,
            "linecolor": "white",
            "showbackground": true,
            "ticks": "",
            "zerolinecolor": "white"
           },
           "zaxis": {
            "backgroundcolor": "#E5ECF6",
            "gridcolor": "white",
            "gridwidth": 2,
            "linecolor": "white",
            "showbackground": true,
            "ticks": "",
            "zerolinecolor": "white"
           }
          },
          "shapedefaults": {
           "line": {
            "color": "#2a3f5f"
           }
          },
          "ternary": {
           "aaxis": {
            "gridcolor": "white",
            "linecolor": "white",
            "ticks": ""
           },
           "baxis": {
            "gridcolor": "white",
            "linecolor": "white",
            "ticks": ""
           },
           "bgcolor": "#E5ECF6",
           "caxis": {
            "gridcolor": "white",
            "linecolor": "white",
            "ticks": ""
           }
          },
          "title": {
           "x": 0.05
          },
          "xaxis": {
           "automargin": true,
           "gridcolor": "white",
           "linecolor": "white",
           "ticks": "",
           "title": {
            "standoff": 15
           },
           "zerolinecolor": "white",
           "zerolinewidth": 2
          },
          "yaxis": {
           "automargin": true,
           "gridcolor": "white",
           "linecolor": "white",
           "ticks": "",
           "title": {
            "standoff": 15
           },
           "zerolinecolor": "white",
           "zerolinewidth": 2
          }
         }
        },
        "title": {
         "text": "Ranking Streaming Service by Number of Subscribers"
        },
        "xaxis": {
         "anchor": "y",
         "domain": [
          0,
          1
         ],
         "showgrid": false,
         "showticklabels": true,
         "title": {
          "text": "Year"
         },
         "visible": true
        },
        "yaxis": {
         "anchor": "x",
         "autorange": "reversed",
         "domain": [
          0,
          1
         ],
         "showgrid": false,
         "showticklabels": true,
         "title": {
          "text": "Rank"
         },
         "visible": true
        }
       }
      }
     },
     "metadata": {},
     "output_type": "display_data"
    }
   ],
   "source": [
    "## Add title to Figure\n",
    "fig.update_layout(title=\"Ranking Streaming Service by Number of Subscribers\")"
   ]
  },
  {
   "cell_type": "code",
   "execution_count": 38,
   "metadata": {},
   "outputs": [
    {
     "data": {
      "application/vnd.plotly.v1+json": {
       "config": {
        "plotlyServerURL": "https://plot.ly"
       },
       "data": [
        {
         "customdata": {
          "bdata": "zczMzMzMCEAAAAAAAIA1QAAAAAAAAAxA9ihcj8K1OUAAAAAAAAASQHE9Ctej0EFAmpmZmZmZFUAfhetRuP5HQM3MzMzMzBpAexSuR+FaT0CamZmZmZkhQJqZmZmZ+VNAMzMzMzMzJ0DD9Shcj8JYQGZmZmZmZi9AZmZmZmYWX0CamZmZmRk0QFK4HoXr8WJAZmZmZmbmOEBmZmZmZh5oQJqZmZmZmT1AAAAAAAAgakCamZmZmZk/QDMzMzMzk2tAmpmZmZnZQECamZmZmcltQAAAAAAAgENAmpmZmZlZcUA=",
          "dtype": "f8",
          "shape": "14, 2"
         },
         "hovertemplate": "<b>%{hovertext}</b><br><br>Streaming Service=Netflix<br>Year=%{x}<br>Rank=%{y}<br>Revenue ($bn)=%{customdata[0]}<br>Number Subscribers (mm)=%{customdata[1]}<extra></extra>",
         "hovertext": [
          "Netflix",
          "Netflix",
          "Netflix",
          "Netflix",
          "Netflix",
          "Netflix",
          "Netflix",
          "Netflix",
          "Netflix",
          "Netflix",
          "Netflix",
          "Netflix",
          "Netflix",
          "Netflix"
         ],
         "legendgroup": "Netflix",
         "line": {
          "color": "#d70c1b",
          "dash": "solid"
         },
         "marker": {
          "symbol": "circle"
         },
         "mode": "lines+markers",
         "name": "Netflix",
         "orientation": "v",
         "showlegend": true,
         "type": "scatter",
         "x": [
          "2011",
          "2012",
          "2013",
          "2014",
          "2015",
          "2016",
          "2017",
          "2018",
          "2019",
          "2020",
          "2021",
          "2022",
          "2023",
          "2024"
         ],
         "xaxis": "x",
         "y": {
          "bdata": "AQAAAAEAAAABAAAAAQAAAAEAAAABAAAAAQAAAAEAAAABAAAAAQAAAAEAAAABAAAAAgAAAAIAAAA=",
          "dtype": "i4"
         },
         "yaxis": "y"
        },
        {
         "customdata": {
          "bdata": "mpmZmZmZ2T8AAAAAAADwPzMzMzMzM+M/AAAAAAAAAECamZmZmZnxPwAAAAAAABBAmpmZmZmZ+T8AAAAAAAAYQAAAAAAAAABAAAAAAAAAJEAzMzMzMzMDQAAAAAAAAChAzczMzMzMCEAAAAAAAAAxQAAAAAAAAAxAAAAAAAAANkAAAAAAAAASQAAAAAAAADlAzczMzMzMHEAAAAAAAABAQDMzMzMzMyNAAAAAAACAREBmZmZmZmYlQAAAAAAAgEZAZmZmZmZmJkCamZmZmRlIQAAAAAAAAChAmpmZmZkZSUA=",
          "dtype": "f8",
          "shape": "14, 2"
         },
         "hovertemplate": "<b>%{hovertext}</b><br><br>Streaming Service=Hulu<br>Year=%{x}<br>Rank=%{y}<br>Revenue ($bn)=%{customdata[0]}<br>Number Subscribers (mm)=%{customdata[1]}<extra></extra>",
         "hovertext": [
          "Hulu",
          "Hulu",
          "Hulu",
          "Hulu",
          "Hulu",
          "Hulu",
          "Hulu",
          "Hulu",
          "Hulu",
          "Hulu",
          "Hulu",
          "Hulu",
          "Hulu",
          "Hulu"
         ],
         "legendgroup": "Hulu",
         "line": {
          "color": "#57e880",
          "dash": "solid"
         },
         "marker": {
          "symbol": "circle"
         },
         "mode": "lines+markers",
         "name": "Hulu",
         "orientation": "v",
         "showlegend": true,
         "type": "scatter",
         "x": [
          "2011",
          "2012",
          "2013",
          "2014",
          "2015",
          "2016",
          "2017",
          "2018",
          "2019",
          "2020",
          "2021",
          "2022",
          "2023",
          "2024"
         ],
         "xaxis": "x",
         "y": {
          "bdata": "AgAAAAIAAAACAAAAAgAAAAIAAAACAAAAAgAAAAIAAAADAAAABQAAAAUAAAAGAAAABgAAAAUAAAA=",
          "dtype": "i4"
         },
         "yaxis": "y"
        },
        {
         "customdata": {
          "bdata": "mpmZmZmZFUAAAAAAAIBWQDMzMzMzMx9AAAAAAABAX0CamZmZmZkmQAAAAAAA4GVAAAAAAAAAKUAAAAAAAEBqQAAAAAAAACxAAAAAAACgbkAAAAAAAAD4fwAAAAAAIHJA",
          "dtype": "f8",
          "shape": "6, 2"
         },
         "hovertemplate": "<b>%{hovertext}</b><br><br>Streaming Service=Amazon Prime<br>Year=%{x}<br>Rank=%{y}<br>Revenue ($bn)=%{customdata[0]}<br>Number Subscribers (mm)=%{customdata[1]}<extra></extra>",
         "hovertext": [
          "Amazon Prime",
          "Amazon Prime",
          "Amazon Prime",
          "Amazon Prime",
          "Amazon Prime",
          "Amazon Prime"
         ],
         "legendgroup": "Amazon Prime",
         "line": {
          "color": "#48a8e2",
          "dash": "solid"
         },
         "marker": {
          "symbol": "circle"
         },
         "mode": "lines+markers",
         "name": "Amazon Prime",
         "orientation": "v",
         "showlegend": true,
         "type": "scatter",
         "x": [
          "2019",
          "2020",
          "2021",
          "2022",
          "2023",
          "2024"
         ],
         "xaxis": "x",
         "y": {
          "bdata": "AgAAAAIAAAACAAAAAgAAAAEAAAABAAAA",
          "dtype": "i4"
         },
         "yaxis": "y"
        },
        {
         "customdata": {
          "bdata": "MzMzMzMzwz8AAAAAAAA0QAAAAAAAANA/AAAAAAAAPEBSuB6F61HYPwAAAAAAAERAzczMzMzM6D8AAAAAAIBJQM3MzMzMzOw/AAAAAAAAUEAAAAAAAAD4fwAAAAAAgFNA",
          "dtype": "f8",
          "shape": "6, 2"
         },
         "hovertemplate": "<b>%{hovertext}</b><br><br>Streaming Service=Tubi<br>Year=%{x}<br>Rank=%{y}<br>Revenue ($bn)=%{customdata[0]}<br>Number Subscribers (mm)=%{customdata[1]}<extra></extra>",
         "hovertext": [
          "Tubi",
          "Tubi",
          "Tubi",
          "Tubi",
          "Tubi",
          "Tubi"
         ],
         "legendgroup": "Tubi",
         "line": {
          "color": "#fbff00",
          "dash": "solid"
         },
         "marker": {
          "symbol": "circle"
         },
         "mode": "lines+markers",
         "name": "Tubi",
         "orientation": "v",
         "showlegend": true,
         "type": "scatter",
         "x": [
          "2019",
          "2020",
          "2021",
          "2022",
          "2023",
          "2024"
         ],
         "xaxis": "x",
         "y": {
          "bdata": "BAAAAAYAAAAGAAAABQAAAAUAAAAEAAAA",
          "dtype": "i4"
         },
         "yaxis": "y"
        },
        {
         "customdata": {
          "bdata": "qFfKMsSxvj/NzMzMzMxLQAwCK4cW2eA/AAAAAADAUEC0yHa+nxrhP83MzMzMTFRAVg4tsp3v3z8zMzMzM/NXQA==",
          "dtype": "f8",
          "shape": "4, 2"
         },
         "hovertemplate": "<b>%{hovertext}</b><br><br>Streaming Service=Max<br>Year=%{x}<br>Rank=%{y}<br>Revenue ($bn)=%{customdata[0]}<br>Number Subscribers (mm)=%{customdata[1]}<extra></extra>",
         "hovertext": [
          "Max",
          "Max",
          "Max",
          "Max"
         ],
         "legendgroup": "Max",
         "line": {
          "color": "#2f16e1",
          "dash": "solid"
         },
         "marker": {
          "symbol": "circle"
         },
         "mode": "lines+markers",
         "name": "Max",
         "orientation": "v",
         "showlegend": true,
         "type": "scatter",
         "x": [
          "2020",
          "2021",
          "2022",
          "2023"
         ],
         "xaxis": "x",
         "y": {
          "bdata": "AwAAAAQAAAAEAAAABAAAAA==",
          "dtype": "i4"
         },
         "yaxis": "y"
        },
        {
         "customdata": {
          "bdata": "ZmZmZmZmBkAAAAAAAMBAQM3MzMzMzBRAmpmZmZkZUUCamZmZmZkdQGZmZmZm5lVAzczMzMzMIECamZmZmTlaQM3MzMzMzCRAZmZmZmZmXUA=",
          "dtype": "f8",
          "shape": "5, 2"
         },
         "hovertemplate": "<b>%{hovertext}</b><br><br>Streaming Service=Disney+<br>Year=%{x}<br>Rank=%{y}<br>Revenue ($bn)=%{customdata[0]}<br>Number Subscribers (mm)=%{customdata[1]}<extra></extra>",
         "hovertext": [
          "Disney+",
          "Disney+",
          "Disney+",
          "Disney+",
          "Disney+"
         ],
         "legendgroup": "Disney+",
         "line": {
          "color": "#50b9ca",
          "dash": "solid"
         },
         "marker": {
          "symbol": "circle"
         },
         "mode": "lines+markers",
         "name": "Disney+",
         "orientation": "v",
         "showlegend": true,
         "type": "scatter",
         "x": [
          "2020",
          "2021",
          "2022",
          "2023",
          "2024"
         ],
         "xaxis": "x",
         "y": {
          "bdata": "BAAAAAMAAAADAAAAAwAAAAMAAAA=",
          "dtype": "i4"
         },
         "yaxis": "y"
        }
       ],
       "layout": {
        "legend": {
         "title": {
          "text": "Streaming Service"
         },
         "tracegroupgap": 0
        },
        "margin": {
         "t": 60
        },
        "paper_bgcolor": "lightgrey",
        "plot_bgcolor": "black",
        "template": {
         "data": {
          "bar": [
           {
            "error_x": {
             "color": "#2a3f5f"
            },
            "error_y": {
             "color": "#2a3f5f"
            },
            "marker": {
             "line": {
              "color": "#E5ECF6",
              "width": 0.5
             },
             "pattern": {
              "fillmode": "overlay",
              "size": 10,
              "solidity": 0.2
             }
            },
            "type": "bar"
           }
          ],
          "barpolar": [
           {
            "marker": {
             "line": {
              "color": "#E5ECF6",
              "width": 0.5
             },
             "pattern": {
              "fillmode": "overlay",
              "size": 10,
              "solidity": 0.2
             }
            },
            "type": "barpolar"
           }
          ],
          "carpet": [
           {
            "aaxis": {
             "endlinecolor": "#2a3f5f",
             "gridcolor": "white",
             "linecolor": "white",
             "minorgridcolor": "white",
             "startlinecolor": "#2a3f5f"
            },
            "baxis": {
             "endlinecolor": "#2a3f5f",
             "gridcolor": "white",
             "linecolor": "white",
             "minorgridcolor": "white",
             "startlinecolor": "#2a3f5f"
            },
            "type": "carpet"
           }
          ],
          "choropleth": [
           {
            "colorbar": {
             "outlinewidth": 0,
             "ticks": ""
            },
            "type": "choropleth"
           }
          ],
          "contour": [
           {
            "colorbar": {
             "outlinewidth": 0,
             "ticks": ""
            },
            "colorscale": [
             [
              0,
              "#0d0887"
             ],
             [
              0.1111111111111111,
              "#46039f"
             ],
             [
              0.2222222222222222,
              "#7201a8"
             ],
             [
              0.3333333333333333,
              "#9c179e"
             ],
             [
              0.4444444444444444,
              "#bd3786"
             ],
             [
              0.5555555555555556,
              "#d8576b"
             ],
             [
              0.6666666666666666,
              "#ed7953"
             ],
             [
              0.7777777777777778,
              "#fb9f3a"
             ],
             [
              0.8888888888888888,
              "#fdca26"
             ],
             [
              1,
              "#f0f921"
             ]
            ],
            "type": "contour"
           }
          ],
          "contourcarpet": [
           {
            "colorbar": {
             "outlinewidth": 0,
             "ticks": ""
            },
            "type": "contourcarpet"
           }
          ],
          "heatmap": [
           {
            "colorbar": {
             "outlinewidth": 0,
             "ticks": ""
            },
            "colorscale": [
             [
              0,
              "#0d0887"
             ],
             [
              0.1111111111111111,
              "#46039f"
             ],
             [
              0.2222222222222222,
              "#7201a8"
             ],
             [
              0.3333333333333333,
              "#9c179e"
             ],
             [
              0.4444444444444444,
              "#bd3786"
             ],
             [
              0.5555555555555556,
              "#d8576b"
             ],
             [
              0.6666666666666666,
              "#ed7953"
             ],
             [
              0.7777777777777778,
              "#fb9f3a"
             ],
             [
              0.8888888888888888,
              "#fdca26"
             ],
             [
              1,
              "#f0f921"
             ]
            ],
            "type": "heatmap"
           }
          ],
          "histogram": [
           {
            "marker": {
             "pattern": {
              "fillmode": "overlay",
              "size": 10,
              "solidity": 0.2
             }
            },
            "type": "histogram"
           }
          ],
          "histogram2d": [
           {
            "colorbar": {
             "outlinewidth": 0,
             "ticks": ""
            },
            "colorscale": [
             [
              0,
              "#0d0887"
             ],
             [
              0.1111111111111111,
              "#46039f"
             ],
             [
              0.2222222222222222,
              "#7201a8"
             ],
             [
              0.3333333333333333,
              "#9c179e"
             ],
             [
              0.4444444444444444,
              "#bd3786"
             ],
             [
              0.5555555555555556,
              "#d8576b"
             ],
             [
              0.6666666666666666,
              "#ed7953"
             ],
             [
              0.7777777777777778,
              "#fb9f3a"
             ],
             [
              0.8888888888888888,
              "#fdca26"
             ],
             [
              1,
              "#f0f921"
             ]
            ],
            "type": "histogram2d"
           }
          ],
          "histogram2dcontour": [
           {
            "colorbar": {
             "outlinewidth": 0,
             "ticks": ""
            },
            "colorscale": [
             [
              0,
              "#0d0887"
             ],
             [
              0.1111111111111111,
              "#46039f"
             ],
             [
              0.2222222222222222,
              "#7201a8"
             ],
             [
              0.3333333333333333,
              "#9c179e"
             ],
             [
              0.4444444444444444,
              "#bd3786"
             ],
             [
              0.5555555555555556,
              "#d8576b"
             ],
             [
              0.6666666666666666,
              "#ed7953"
             ],
             [
              0.7777777777777778,
              "#fb9f3a"
             ],
             [
              0.8888888888888888,
              "#fdca26"
             ],
             [
              1,
              "#f0f921"
             ]
            ],
            "type": "histogram2dcontour"
           }
          ],
          "mesh3d": [
           {
            "colorbar": {
             "outlinewidth": 0,
             "ticks": ""
            },
            "type": "mesh3d"
           }
          ],
          "parcoords": [
           {
            "line": {
             "colorbar": {
              "outlinewidth": 0,
              "ticks": ""
             }
            },
            "type": "parcoords"
           }
          ],
          "pie": [
           {
            "automargin": true,
            "type": "pie"
           }
          ],
          "scatter": [
           {
            "fillpattern": {
             "fillmode": "overlay",
             "size": 10,
             "solidity": 0.2
            },
            "type": "scatter"
           }
          ],
          "scatter3d": [
           {
            "line": {
             "colorbar": {
              "outlinewidth": 0,
              "ticks": ""
             }
            },
            "marker": {
             "colorbar": {
              "outlinewidth": 0,
              "ticks": ""
             }
            },
            "type": "scatter3d"
           }
          ],
          "scattercarpet": [
           {
            "marker": {
             "colorbar": {
              "outlinewidth": 0,
              "ticks": ""
             }
            },
            "type": "scattercarpet"
           }
          ],
          "scattergeo": [
           {
            "marker": {
             "colorbar": {
              "outlinewidth": 0,
              "ticks": ""
             }
            },
            "type": "scattergeo"
           }
          ],
          "scattergl": [
           {
            "marker": {
             "colorbar": {
              "outlinewidth": 0,
              "ticks": ""
             }
            },
            "type": "scattergl"
           }
          ],
          "scattermap": [
           {
            "marker": {
             "colorbar": {
              "outlinewidth": 0,
              "ticks": ""
             }
            },
            "type": "scattermap"
           }
          ],
          "scattermapbox": [
           {
            "marker": {
             "colorbar": {
              "outlinewidth": 0,
              "ticks": ""
             }
            },
            "type": "scattermapbox"
           }
          ],
          "scatterpolar": [
           {
            "marker": {
             "colorbar": {
              "outlinewidth": 0,
              "ticks": ""
             }
            },
            "type": "scatterpolar"
           }
          ],
          "scatterpolargl": [
           {
            "marker": {
             "colorbar": {
              "outlinewidth": 0,
              "ticks": ""
             }
            },
            "type": "scatterpolargl"
           }
          ],
          "scatterternary": [
           {
            "marker": {
             "colorbar": {
              "outlinewidth": 0,
              "ticks": ""
             }
            },
            "type": "scatterternary"
           }
          ],
          "surface": [
           {
            "colorbar": {
             "outlinewidth": 0,
             "ticks": ""
            },
            "colorscale": [
             [
              0,
              "#0d0887"
             ],
             [
              0.1111111111111111,
              "#46039f"
             ],
             [
              0.2222222222222222,
              "#7201a8"
             ],
             [
              0.3333333333333333,
              "#9c179e"
             ],
             [
              0.4444444444444444,
              "#bd3786"
             ],
             [
              0.5555555555555556,
              "#d8576b"
             ],
             [
              0.6666666666666666,
              "#ed7953"
             ],
             [
              0.7777777777777778,
              "#fb9f3a"
             ],
             [
              0.8888888888888888,
              "#fdca26"
             ],
             [
              1,
              "#f0f921"
             ]
            ],
            "type": "surface"
           }
          ],
          "table": [
           {
            "cells": {
             "fill": {
              "color": "#EBF0F8"
             },
             "line": {
              "color": "white"
             }
            },
            "header": {
             "fill": {
              "color": "#C8D4E3"
             },
             "line": {
              "color": "white"
             }
            },
            "type": "table"
           }
          ]
         },
         "layout": {
          "annotationdefaults": {
           "arrowcolor": "#2a3f5f",
           "arrowhead": 0,
           "arrowwidth": 1
          },
          "autotypenumbers": "strict",
          "coloraxis": {
           "colorbar": {
            "outlinewidth": 0,
            "ticks": ""
           }
          },
          "colorscale": {
           "diverging": [
            [
             0,
             "#8e0152"
            ],
            [
             0.1,
             "#c51b7d"
            ],
            [
             0.2,
             "#de77ae"
            ],
            [
             0.3,
             "#f1b6da"
            ],
            [
             0.4,
             "#fde0ef"
            ],
            [
             0.5,
             "#f7f7f7"
            ],
            [
             0.6,
             "#e6f5d0"
            ],
            [
             0.7,
             "#b8e186"
            ],
            [
             0.8,
             "#7fbc41"
            ],
            [
             0.9,
             "#4d9221"
            ],
            [
             1,
             "#276419"
            ]
           ],
           "sequential": [
            [
             0,
             "#0d0887"
            ],
            [
             0.1111111111111111,
             "#46039f"
            ],
            [
             0.2222222222222222,
             "#7201a8"
            ],
            [
             0.3333333333333333,
             "#9c179e"
            ],
            [
             0.4444444444444444,
             "#bd3786"
            ],
            [
             0.5555555555555556,
             "#d8576b"
            ],
            [
             0.6666666666666666,
             "#ed7953"
            ],
            [
             0.7777777777777778,
             "#fb9f3a"
            ],
            [
             0.8888888888888888,
             "#fdca26"
            ],
            [
             1,
             "#f0f921"
            ]
           ],
           "sequentialminus": [
            [
             0,
             "#0d0887"
            ],
            [
             0.1111111111111111,
             "#46039f"
            ],
            [
             0.2222222222222222,
             "#7201a8"
            ],
            [
             0.3333333333333333,
             "#9c179e"
            ],
            [
             0.4444444444444444,
             "#bd3786"
            ],
            [
             0.5555555555555556,
             "#d8576b"
            ],
            [
             0.6666666666666666,
             "#ed7953"
            ],
            [
             0.7777777777777778,
             "#fb9f3a"
            ],
            [
             0.8888888888888888,
             "#fdca26"
            ],
            [
             1,
             "#f0f921"
            ]
           ]
          },
          "colorway": [
           "#636efa",
           "#EF553B",
           "#00cc96",
           "#ab63fa",
           "#FFA15A",
           "#19d3f3",
           "#FF6692",
           "#B6E880",
           "#FF97FF",
           "#FECB52"
          ],
          "font": {
           "color": "#2a3f5f"
          },
          "geo": {
           "bgcolor": "white",
           "lakecolor": "white",
           "landcolor": "#E5ECF6",
           "showlakes": true,
           "showland": true,
           "subunitcolor": "white"
          },
          "hoverlabel": {
           "align": "left"
          },
          "hovermode": "closest",
          "mapbox": {
           "style": "light"
          },
          "paper_bgcolor": "white",
          "plot_bgcolor": "#E5ECF6",
          "polar": {
           "angularaxis": {
            "gridcolor": "white",
            "linecolor": "white",
            "ticks": ""
           },
           "bgcolor": "#E5ECF6",
           "radialaxis": {
            "gridcolor": "white",
            "linecolor": "white",
            "ticks": ""
           }
          },
          "scene": {
           "xaxis": {
            "backgroundcolor": "#E5ECF6",
            "gridcolor": "white",
            "gridwidth": 2,
            "linecolor": "white",
            "showbackground": true,
            "ticks": "",
            "zerolinecolor": "white"
           },
           "yaxis": {
            "backgroundcolor": "#E5ECF6",
            "gridcolor": "white",
            "gridwidth": 2,
            "linecolor": "white",
            "showbackground": true,
            "ticks": "",
            "zerolinecolor": "white"
           },
           "zaxis": {
            "backgroundcolor": "#E5ECF6",
            "gridcolor": "white",
            "gridwidth": 2,
            "linecolor": "white",
            "showbackground": true,
            "ticks": "",
            "zerolinecolor": "white"
           }
          },
          "shapedefaults": {
           "line": {
            "color": "#2a3f5f"
           }
          },
          "ternary": {
           "aaxis": {
            "gridcolor": "white",
            "linecolor": "white",
            "ticks": ""
           },
           "baxis": {
            "gridcolor": "white",
            "linecolor": "white",
            "ticks": ""
           },
           "bgcolor": "#E5ECF6",
           "caxis": {
            "gridcolor": "white",
            "linecolor": "white",
            "ticks": ""
           }
          },
          "title": {
           "x": 0.05
          },
          "xaxis": {
           "automargin": true,
           "gridcolor": "white",
           "linecolor": "white",
           "ticks": "",
           "title": {
            "standoff": 15
           },
           "zerolinecolor": "white",
           "zerolinewidth": 2
          },
          "yaxis": {
           "automargin": true,
           "gridcolor": "white",
           "linecolor": "white",
           "ticks": "",
           "title": {
            "standoff": 15
           },
           "zerolinecolor": "white",
           "zerolinewidth": 2
          }
         }
        },
        "title": {
         "font": {
          "color": "black",
          "family": "Arial",
          "size": 20
         },
         "text": "Ranking Streaming Service by Number of Subscribers"
        },
        "xaxis": {
         "anchor": "y",
         "domain": [
          0,
          1
         ],
         "showgrid": false,
         "showticklabels": true,
         "title": {
          "text": "Year"
         },
         "visible": true
        },
        "yaxis": {
         "anchor": "x",
         "autorange": "reversed",
         "domain": [
          0,
          1
         ],
         "showgrid": false,
         "showticklabels": true,
         "title": {
          "text": "Rank"
         },
         "visible": true
        }
       }
      }
     },
     "metadata": {},
     "output_type": "display_data"
    }
   ],
   "source": [
    "## Set dark background color\n",
    "fig.update_layout(plot_bgcolor='black',\n",
    "                  paper_bgcolor='lightgrey',\n",
    "                  title_font=dict(size=20,\n",
    "                                  color='black',\n",
    "                                  family='Arial'))"
   ]
  },
  {
   "cell_type": "code",
   "execution_count": 39,
   "metadata": {},
   "outputs": [
    {
     "data": {
      "application/vnd.plotly.v1+json": {
       "config": {
        "plotlyServerURL": "https://plot.ly"
       },
       "data": [
        {
         "customdata": {
          "bdata": "zczMzMzMCEAAAAAAAIA1QAAAAAAAAAxA9ihcj8K1OUAAAAAAAAASQHE9Ctej0EFAmpmZmZmZFUAfhetRuP5HQM3MzMzMzBpAexSuR+FaT0CamZmZmZkhQJqZmZmZ+VNAMzMzMzMzJ0DD9Shcj8JYQGZmZmZmZi9AZmZmZmYWX0CamZmZmRk0QFK4HoXr8WJAZmZmZmbmOEBmZmZmZh5oQJqZmZmZmT1AAAAAAAAgakCamZmZmZk/QDMzMzMzk2tAmpmZmZnZQECamZmZmcltQAAAAAAAgENAmpmZmZlZcUA=",
          "dtype": "f8",
          "shape": "14, 2"
         },
         "hovertemplate": "<b>%{hovertext}</b><br><br>Streaming Service=Netflix<br>Year=%{x}<br>Rank=%{y}<br>Revenue ($bn)=%{customdata[0]}<br>Number Subscribers (mm)=%{customdata[1]}<extra></extra>",
         "hovertext": [
          "Netflix",
          "Netflix",
          "Netflix",
          "Netflix",
          "Netflix",
          "Netflix",
          "Netflix",
          "Netflix",
          "Netflix",
          "Netflix",
          "Netflix",
          "Netflix",
          "Netflix",
          "Netflix"
         ],
         "legendgroup": "Netflix",
         "line": {
          "color": "#d70c1b",
          "dash": "solid"
         },
         "marker": {
          "symbol": "circle"
         },
         "mode": "lines+markers",
         "name": "Netflix",
         "orientation": "v",
         "showlegend": true,
         "type": "scatter",
         "x": [
          "2011",
          "2012",
          "2013",
          "2014",
          "2015",
          "2016",
          "2017",
          "2018",
          "2019",
          "2020",
          "2021",
          "2022",
          "2023",
          "2024"
         ],
         "xaxis": "x",
         "y": {
          "bdata": "AQAAAAEAAAABAAAAAQAAAAEAAAABAAAAAQAAAAEAAAABAAAAAQAAAAEAAAABAAAAAgAAAAIAAAA=",
          "dtype": "i4"
         },
         "yaxis": "y"
        },
        {
         "customdata": {
          "bdata": "mpmZmZmZ2T8AAAAAAADwPzMzMzMzM+M/AAAAAAAAAECamZmZmZnxPwAAAAAAABBAmpmZmZmZ+T8AAAAAAAAYQAAAAAAAAABAAAAAAAAAJEAzMzMzMzMDQAAAAAAAAChAzczMzMzMCEAAAAAAAAAxQAAAAAAAAAxAAAAAAAAANkAAAAAAAAASQAAAAAAAADlAzczMzMzMHEAAAAAAAABAQDMzMzMzMyNAAAAAAACAREBmZmZmZmYlQAAAAAAAgEZAZmZmZmZmJkCamZmZmRlIQAAAAAAAAChAmpmZmZkZSUA=",
          "dtype": "f8",
          "shape": "14, 2"
         },
         "hovertemplate": "<b>%{hovertext}</b><br><br>Streaming Service=Hulu<br>Year=%{x}<br>Rank=%{y}<br>Revenue ($bn)=%{customdata[0]}<br>Number Subscribers (mm)=%{customdata[1]}<extra></extra>",
         "hovertext": [
          "Hulu",
          "Hulu",
          "Hulu",
          "Hulu",
          "Hulu",
          "Hulu",
          "Hulu",
          "Hulu",
          "Hulu",
          "Hulu",
          "Hulu",
          "Hulu",
          "Hulu",
          "Hulu"
         ],
         "legendgroup": "Hulu",
         "line": {
          "color": "#57e880",
          "dash": "solid"
         },
         "marker": {
          "symbol": "circle"
         },
         "mode": "lines+markers",
         "name": "Hulu",
         "orientation": "v",
         "showlegend": true,
         "type": "scatter",
         "x": [
          "2011",
          "2012",
          "2013",
          "2014",
          "2015",
          "2016",
          "2017",
          "2018",
          "2019",
          "2020",
          "2021",
          "2022",
          "2023",
          "2024"
         ],
         "xaxis": "x",
         "y": {
          "bdata": "AgAAAAIAAAACAAAAAgAAAAIAAAACAAAAAgAAAAIAAAADAAAABQAAAAUAAAAGAAAABgAAAAUAAAA=",
          "dtype": "i4"
         },
         "yaxis": "y"
        },
        {
         "customdata": {
          "bdata": "mpmZmZmZFUAAAAAAAIBWQDMzMzMzMx9AAAAAAABAX0CamZmZmZkmQAAAAAAA4GVAAAAAAAAAKUAAAAAAAEBqQAAAAAAAACxAAAAAAACgbkAAAAAAAAD4fwAAAAAAIHJA",
          "dtype": "f8",
          "shape": "6, 2"
         },
         "hovertemplate": "<b>%{hovertext}</b><br><br>Streaming Service=Amazon Prime<br>Year=%{x}<br>Rank=%{y}<br>Revenue ($bn)=%{customdata[0]}<br>Number Subscribers (mm)=%{customdata[1]}<extra></extra>",
         "hovertext": [
          "Amazon Prime",
          "Amazon Prime",
          "Amazon Prime",
          "Amazon Prime",
          "Amazon Prime",
          "Amazon Prime"
         ],
         "legendgroup": "Amazon Prime",
         "line": {
          "color": "#48a8e2",
          "dash": "solid"
         },
         "marker": {
          "symbol": "circle"
         },
         "mode": "lines+markers",
         "name": "Amazon Prime",
         "orientation": "v",
         "showlegend": true,
         "type": "scatter",
         "x": [
          "2019",
          "2020",
          "2021",
          "2022",
          "2023",
          "2024"
         ],
         "xaxis": "x",
         "y": {
          "bdata": "AgAAAAIAAAACAAAAAgAAAAEAAAABAAAA",
          "dtype": "i4"
         },
         "yaxis": "y"
        },
        {
         "customdata": {
          "bdata": "MzMzMzMzwz8AAAAAAAA0QAAAAAAAANA/AAAAAAAAPEBSuB6F61HYPwAAAAAAAERAzczMzMzM6D8AAAAAAIBJQM3MzMzMzOw/AAAAAAAAUEAAAAAAAAD4fwAAAAAAgFNA",
          "dtype": "f8",
          "shape": "6, 2"
         },
         "hovertemplate": "<b>%{hovertext}</b><br><br>Streaming Service=Tubi<br>Year=%{x}<br>Rank=%{y}<br>Revenue ($bn)=%{customdata[0]}<br>Number Subscribers (mm)=%{customdata[1]}<extra></extra>",
         "hovertext": [
          "Tubi",
          "Tubi",
          "Tubi",
          "Tubi",
          "Tubi",
          "Tubi"
         ],
         "legendgroup": "Tubi",
         "line": {
          "color": "#6800c2",
          "dash": "solid"
         },
         "marker": {
          "symbol": "circle"
         },
         "mode": "lines+markers",
         "name": "Tubi",
         "orientation": "v",
         "showlegend": true,
         "type": "scatter",
         "x": [
          "2019",
          "2020",
          "2021",
          "2022",
          "2023",
          "2024"
         ],
         "xaxis": "x",
         "y": {
          "bdata": "BAAAAAYAAAAGAAAABQAAAAUAAAAEAAAA",
          "dtype": "i4"
         },
         "yaxis": "y"
        },
        {
         "customdata": {
          "bdata": "qFfKMsSxvj/NzMzMzMxLQAwCK4cW2eA/AAAAAADAUEC0yHa+nxrhP83MzMzMTFRAVg4tsp3v3z8zMzMzM/NXQA==",
          "dtype": "f8",
          "shape": "4, 2"
         },
         "hovertemplate": "<b>%{hovertext}</b><br><br>Streaming Service=Max<br>Year=%{x}<br>Rank=%{y}<br>Revenue ($bn)=%{customdata[0]}<br>Number Subscribers (mm)=%{customdata[1]}<extra></extra>",
         "hovertext": [
          "Max",
          "Max",
          "Max",
          "Max"
         ],
         "legendgroup": "Max",
         "line": {
          "color": "#2f16e1",
          "dash": "solid"
         },
         "marker": {
          "symbol": "circle"
         },
         "mode": "lines+markers",
         "name": "Max",
         "orientation": "v",
         "showlegend": true,
         "type": "scatter",
         "x": [
          "2020",
          "2021",
          "2022",
          "2023"
         ],
         "xaxis": "x",
         "y": {
          "bdata": "AwAAAAQAAAAEAAAABAAAAA==",
          "dtype": "i4"
         },
         "yaxis": "y"
        },
        {
         "customdata": {
          "bdata": "ZmZmZmZmBkAAAAAAAMBAQM3MzMzMzBRAmpmZmZkZUUCamZmZmZkdQGZmZmZm5lVAzczMzMzMIECamZmZmTlaQM3MzMzMzCRAZmZmZmZmXUA=",
          "dtype": "f8",
          "shape": "5, 2"
         },
         "hovertemplate": "<b>%{hovertext}</b><br><br>Streaming Service=Disney+<br>Year=%{x}<br>Rank=%{y}<br>Revenue ($bn)=%{customdata[0]}<br>Number Subscribers (mm)=%{customdata[1]}<extra></extra>",
         "hovertext": [
          "Disney+",
          "Disney+",
          "Disney+",
          "Disney+",
          "Disney+"
         ],
         "legendgroup": "Disney+",
         "line": {
          "color": "#50b9ca",
          "dash": "solid"
         },
         "marker": {
          "symbol": "circle"
         },
         "mode": "lines+markers",
         "name": "Disney+",
         "orientation": "v",
         "showlegend": true,
         "type": "scatter",
         "x": [
          "2020",
          "2021",
          "2022",
          "2023",
          "2024"
         ],
         "xaxis": "x",
         "y": {
          "bdata": "BAAAAAMAAAADAAAAAwAAAAMAAAA=",
          "dtype": "i4"
         },
         "yaxis": "y"
        }
       ],
       "layout": {
        "legend": {
         "title": {
          "text": "Streaming Service"
         },
         "tracegroupgap": 0
        },
        "margin": {
         "t": 60
        },
        "template": {
         "data": {
          "bar": [
           {
            "error_x": {
             "color": "#2a3f5f"
            },
            "error_y": {
             "color": "#2a3f5f"
            },
            "marker": {
             "line": {
              "color": "#E5ECF6",
              "width": 0.5
             },
             "pattern": {
              "fillmode": "overlay",
              "size": 10,
              "solidity": 0.2
             }
            },
            "type": "bar"
           }
          ],
          "barpolar": [
           {
            "marker": {
             "line": {
              "color": "#E5ECF6",
              "width": 0.5
             },
             "pattern": {
              "fillmode": "overlay",
              "size": 10,
              "solidity": 0.2
             }
            },
            "type": "barpolar"
           }
          ],
          "carpet": [
           {
            "aaxis": {
             "endlinecolor": "#2a3f5f",
             "gridcolor": "white",
             "linecolor": "white",
             "minorgridcolor": "white",
             "startlinecolor": "#2a3f5f"
            },
            "baxis": {
             "endlinecolor": "#2a3f5f",
             "gridcolor": "white",
             "linecolor": "white",
             "minorgridcolor": "white",
             "startlinecolor": "#2a3f5f"
            },
            "type": "carpet"
           }
          ],
          "choropleth": [
           {
            "colorbar": {
             "outlinewidth": 0,
             "ticks": ""
            },
            "type": "choropleth"
           }
          ],
          "contour": [
           {
            "colorbar": {
             "outlinewidth": 0,
             "ticks": ""
            },
            "colorscale": [
             [
              0,
              "#0d0887"
             ],
             [
              0.1111111111111111,
              "#46039f"
             ],
             [
              0.2222222222222222,
              "#7201a8"
             ],
             [
              0.3333333333333333,
              "#9c179e"
             ],
             [
              0.4444444444444444,
              "#bd3786"
             ],
             [
              0.5555555555555556,
              "#d8576b"
             ],
             [
              0.6666666666666666,
              "#ed7953"
             ],
             [
              0.7777777777777778,
              "#fb9f3a"
             ],
             [
              0.8888888888888888,
              "#fdca26"
             ],
             [
              1,
              "#f0f921"
             ]
            ],
            "type": "contour"
           }
          ],
          "contourcarpet": [
           {
            "colorbar": {
             "outlinewidth": 0,
             "ticks": ""
            },
            "type": "contourcarpet"
           }
          ],
          "heatmap": [
           {
            "colorbar": {
             "outlinewidth": 0,
             "ticks": ""
            },
            "colorscale": [
             [
              0,
              "#0d0887"
             ],
             [
              0.1111111111111111,
              "#46039f"
             ],
             [
              0.2222222222222222,
              "#7201a8"
             ],
             [
              0.3333333333333333,
              "#9c179e"
             ],
             [
              0.4444444444444444,
              "#bd3786"
             ],
             [
              0.5555555555555556,
              "#d8576b"
             ],
             [
              0.6666666666666666,
              "#ed7953"
             ],
             [
              0.7777777777777778,
              "#fb9f3a"
             ],
             [
              0.8888888888888888,
              "#fdca26"
             ],
             [
              1,
              "#f0f921"
             ]
            ],
            "type": "heatmap"
           }
          ],
          "histogram": [
           {
            "marker": {
             "pattern": {
              "fillmode": "overlay",
              "size": 10,
              "solidity": 0.2
             }
            },
            "type": "histogram"
           }
          ],
          "histogram2d": [
           {
            "colorbar": {
             "outlinewidth": 0,
             "ticks": ""
            },
            "colorscale": [
             [
              0,
              "#0d0887"
             ],
             [
              0.1111111111111111,
              "#46039f"
             ],
             [
              0.2222222222222222,
              "#7201a8"
             ],
             [
              0.3333333333333333,
              "#9c179e"
             ],
             [
              0.4444444444444444,
              "#bd3786"
             ],
             [
              0.5555555555555556,
              "#d8576b"
             ],
             [
              0.6666666666666666,
              "#ed7953"
             ],
             [
              0.7777777777777778,
              "#fb9f3a"
             ],
             [
              0.8888888888888888,
              "#fdca26"
             ],
             [
              1,
              "#f0f921"
             ]
            ],
            "type": "histogram2d"
           }
          ],
          "histogram2dcontour": [
           {
            "colorbar": {
             "outlinewidth": 0,
             "ticks": ""
            },
            "colorscale": [
             [
              0,
              "#0d0887"
             ],
             [
              0.1111111111111111,
              "#46039f"
             ],
             [
              0.2222222222222222,
              "#7201a8"
             ],
             [
              0.3333333333333333,
              "#9c179e"
             ],
             [
              0.4444444444444444,
              "#bd3786"
             ],
             [
              0.5555555555555556,
              "#d8576b"
             ],
             [
              0.6666666666666666,
              "#ed7953"
             ],
             [
              0.7777777777777778,
              "#fb9f3a"
             ],
             [
              0.8888888888888888,
              "#fdca26"
             ],
             [
              1,
              "#f0f921"
             ]
            ],
            "type": "histogram2dcontour"
           }
          ],
          "mesh3d": [
           {
            "colorbar": {
             "outlinewidth": 0,
             "ticks": ""
            },
            "type": "mesh3d"
           }
          ],
          "parcoords": [
           {
            "line": {
             "colorbar": {
              "outlinewidth": 0,
              "ticks": ""
             }
            },
            "type": "parcoords"
           }
          ],
          "pie": [
           {
            "automargin": true,
            "type": "pie"
           }
          ],
          "scatter": [
           {
            "fillpattern": {
             "fillmode": "overlay",
             "size": 10,
             "solidity": 0.2
            },
            "type": "scatter"
           }
          ],
          "scatter3d": [
           {
            "line": {
             "colorbar": {
              "outlinewidth": 0,
              "ticks": ""
             }
            },
            "marker": {
             "colorbar": {
              "outlinewidth": 0,
              "ticks": ""
             }
            },
            "type": "scatter3d"
           }
          ],
          "scattercarpet": [
           {
            "marker": {
             "colorbar": {
              "outlinewidth": 0,
              "ticks": ""
             }
            },
            "type": "scattercarpet"
           }
          ],
          "scattergeo": [
           {
            "marker": {
             "colorbar": {
              "outlinewidth": 0,
              "ticks": ""
             }
            },
            "type": "scattergeo"
           }
          ],
          "scattergl": [
           {
            "marker": {
             "colorbar": {
              "outlinewidth": 0,
              "ticks": ""
             }
            },
            "type": "scattergl"
           }
          ],
          "scattermap": [
           {
            "marker": {
             "colorbar": {
              "outlinewidth": 0,
              "ticks": ""
             }
            },
            "type": "scattermap"
           }
          ],
          "scattermapbox": [
           {
            "marker": {
             "colorbar": {
              "outlinewidth": 0,
              "ticks": ""
             }
            },
            "type": "scattermapbox"
           }
          ],
          "scatterpolar": [
           {
            "marker": {
             "colorbar": {
              "outlinewidth": 0,
              "ticks": ""
             }
            },
            "type": "scatterpolar"
           }
          ],
          "scatterpolargl": [
           {
            "marker": {
             "colorbar": {
              "outlinewidth": 0,
              "ticks": ""
             }
            },
            "type": "scatterpolargl"
           }
          ],
          "scatterternary": [
           {
            "marker": {
             "colorbar": {
              "outlinewidth": 0,
              "ticks": ""
             }
            },
            "type": "scatterternary"
           }
          ],
          "surface": [
           {
            "colorbar": {
             "outlinewidth": 0,
             "ticks": ""
            },
            "colorscale": [
             [
              0,
              "#0d0887"
             ],
             [
              0.1111111111111111,
              "#46039f"
             ],
             [
              0.2222222222222222,
              "#7201a8"
             ],
             [
              0.3333333333333333,
              "#9c179e"
             ],
             [
              0.4444444444444444,
              "#bd3786"
             ],
             [
              0.5555555555555556,
              "#d8576b"
             ],
             [
              0.6666666666666666,
              "#ed7953"
             ],
             [
              0.7777777777777778,
              "#fb9f3a"
             ],
             [
              0.8888888888888888,
              "#fdca26"
             ],
             [
              1,
              "#f0f921"
             ]
            ],
            "type": "surface"
           }
          ],
          "table": [
           {
            "cells": {
             "fill": {
              "color": "#EBF0F8"
             },
             "line": {
              "color": "white"
             }
            },
            "header": {
             "fill": {
              "color": "#C8D4E3"
             },
             "line": {
              "color": "white"
             }
            },
            "type": "table"
           }
          ]
         },
         "layout": {
          "annotationdefaults": {
           "arrowcolor": "#2a3f5f",
           "arrowhead": 0,
           "arrowwidth": 1
          },
          "autotypenumbers": "strict",
          "coloraxis": {
           "colorbar": {
            "outlinewidth": 0,
            "ticks": ""
           }
          },
          "colorscale": {
           "diverging": [
            [
             0,
             "#8e0152"
            ],
            [
             0.1,
             "#c51b7d"
            ],
            [
             0.2,
             "#de77ae"
            ],
            [
             0.3,
             "#f1b6da"
            ],
            [
             0.4,
             "#fde0ef"
            ],
            [
             0.5,
             "#f7f7f7"
            ],
            [
             0.6,
             "#e6f5d0"
            ],
            [
             0.7,
             "#b8e186"
            ],
            [
             0.8,
             "#7fbc41"
            ],
            [
             0.9,
             "#4d9221"
            ],
            [
             1,
             "#276419"
            ]
           ],
           "sequential": [
            [
             0,
             "#0d0887"
            ],
            [
             0.1111111111111111,
             "#46039f"
            ],
            [
             0.2222222222222222,
             "#7201a8"
            ],
            [
             0.3333333333333333,
             "#9c179e"
            ],
            [
             0.4444444444444444,
             "#bd3786"
            ],
            [
             0.5555555555555556,
             "#d8576b"
            ],
            [
             0.6666666666666666,
             "#ed7953"
            ],
            [
             0.7777777777777778,
             "#fb9f3a"
            ],
            [
             0.8888888888888888,
             "#fdca26"
            ],
            [
             1,
             "#f0f921"
            ]
           ],
           "sequentialminus": [
            [
             0,
             "#0d0887"
            ],
            [
             0.1111111111111111,
             "#46039f"
            ],
            [
             0.2222222222222222,
             "#7201a8"
            ],
            [
             0.3333333333333333,
             "#9c179e"
            ],
            [
             0.4444444444444444,
             "#bd3786"
            ],
            [
             0.5555555555555556,
             "#d8576b"
            ],
            [
             0.6666666666666666,
             "#ed7953"
            ],
            [
             0.7777777777777778,
             "#fb9f3a"
            ],
            [
             0.8888888888888888,
             "#fdca26"
            ],
            [
             1,
             "#f0f921"
            ]
           ]
          },
          "colorway": [
           "#636efa",
           "#EF553B",
           "#00cc96",
           "#ab63fa",
           "#FFA15A",
           "#19d3f3",
           "#FF6692",
           "#B6E880",
           "#FF97FF",
           "#FECB52"
          ],
          "font": {
           "color": "#2a3f5f"
          },
          "geo": {
           "bgcolor": "white",
           "lakecolor": "white",
           "landcolor": "#E5ECF6",
           "showlakes": true,
           "showland": true,
           "subunitcolor": "white"
          },
          "hoverlabel": {
           "align": "left"
          },
          "hovermode": "closest",
          "mapbox": {
           "style": "light"
          },
          "paper_bgcolor": "white",
          "plot_bgcolor": "#E5ECF6",
          "polar": {
           "angularaxis": {
            "gridcolor": "white",
            "linecolor": "white",
            "ticks": ""
           },
           "bgcolor": "#E5ECF6",
           "radialaxis": {
            "gridcolor": "white",
            "linecolor": "white",
            "ticks": ""
           }
          },
          "scene": {
           "xaxis": {
            "backgroundcolor": "#E5ECF6",
            "gridcolor": "white",
            "gridwidth": 2,
            "linecolor": "white",
            "showbackground": true,
            "ticks": "",
            "zerolinecolor": "white"
           },
           "yaxis": {
            "backgroundcolor": "#E5ECF6",
            "gridcolor": "white",
            "gridwidth": 2,
            "linecolor": "white",
            "showbackground": true,
            "ticks": "",
            "zerolinecolor": "white"
           },
           "zaxis": {
            "backgroundcolor": "#E5ECF6",
            "gridcolor": "white",
            "gridwidth": 2,
            "linecolor": "white",
            "showbackground": true,
            "ticks": "",
            "zerolinecolor": "white"
           }
          },
          "shapedefaults": {
           "line": {
            "color": "#2a3f5f"
           }
          },
          "ternary": {
           "aaxis": {
            "gridcolor": "white",
            "linecolor": "white",
            "ticks": ""
           },
           "baxis": {
            "gridcolor": "white",
            "linecolor": "white",
            "ticks": ""
           },
           "bgcolor": "#E5ECF6",
           "caxis": {
            "gridcolor": "white",
            "linecolor": "white",
            "ticks": ""
           }
          },
          "title": {
           "x": 0.05
          },
          "xaxis": {
           "automargin": true,
           "gridcolor": "white",
           "linecolor": "white",
           "ticks": "",
           "title": {
            "standoff": 15
           },
           "zerolinecolor": "white",
           "zerolinewidth": 2
          },
          "yaxis": {
           "automargin": true,
           "gridcolor": "white",
           "linecolor": "white",
           "ticks": "",
           "title": {
            "standoff": 15
           },
           "zerolinecolor": "white",
           "zerolinewidth": 2
          }
         }
        },
        "title": {
         "text": "Ranking Streaming Service by Number of Subscribers"
        },
        "xaxis": {
         "anchor": "y",
         "domain": [
          0,
          1
         ],
         "showgrid": false,
         "showticklabels": true,
         "title": {
          "text": "Year"
         },
         "visible": true
        },
        "yaxis": {
         "anchor": "x",
         "autorange": "reversed",
         "domain": [
          0,
          1
         ],
         "showgrid": false,
         "showticklabels": true,
         "title": {
          "text": "Rank"
         },
         "visible": true
        }
       }
      }
     },
     "metadata": {},
     "output_type": "display_data"
    }
   ],
   "source": [
    "## New color dict using pruple for Tubi\n",
    "color_dict_2 = {\n",
    "    \"Netflix\": '#d70c1b',\n",
    "    \"Hulu\": '#57e880',\n",
    "    \"Max\": '#2f16e1',\n",
    "    \"Disney+\": '#50b9ca',\n",
    "    \"Amazon Prime\": '#48a8e2',\n",
    "    \"Tubi\": '#6800c2'\n",
    "}\n",
    "\n",
    "##Recreate bump chart using color_dict_2\n",
    "fig_2 = px.line(df_subscriber_counts, x=\"Year\", y=\"Rank\",\n",
    "              color=\"Streaming Service\",\n",
    "              color_discrete_map=color_dict_2,\n",
    "              markers=True,\n",
    "              hover_name=\"Streaming Service\",\n",
    "              hover_data=[\"Revenue ($bn)\", \"Number Subscribers (mm)\"]\n",
    "              )\n",
    "fig_2.update_yaxes(autorange='reversed', title=\"Rank\", visible=True, showticklabels=True)\n",
    "fig_2.update_xaxes(title=\"Year\", visible=True, showticklabels=True)\n",
    "fig_2.update_layout(xaxis=dict(showgrid=False),\n",
    "                  yaxis=dict(showgrid=False))\n",
    "\n",
    "fig_2.update_layout(title=\"Ranking Streaming Service by Number of Subscribers\")\n",
    "\n",
    "fig_2.show()"
   ]
  }
 ],
 "metadata": {
  "kernelspec": {
   "display_name": "Python 3",
   "language": "python",
   "name": "python3"
  },
  "language_info": {
   "codemirror_mode": {
    "name": "ipython",
    "version": 3
   },
   "file_extension": ".py",
   "mimetype": "text/x-python",
   "name": "python",
   "nbconvert_exporter": "python",
   "pygments_lexer": "ipython3",
   "version": "3.10.11"
  }
 },
 "nbformat": 4,
 "nbformat_minor": 2
}
